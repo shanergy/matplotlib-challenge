{
 "cells": [
  {
   "cell_type": "code",
   "execution_count": 1,
   "metadata": {},
   "outputs": [],
   "source": [
    "import pandas as pd\n",
    "import matplotlib.pyplot as plt\n",
    "# import seaborn as sns\n",
    "import numpy as np\n"
   ]
  },
  {
   "cell_type": "code",
   "execution_count": 2,
   "metadata": {},
   "outputs": [],
   "source": [
    "# # df = pd.DataFrame({'Group':['A','A','A','B','C','B','B','C','A','C'],\\\n",
    "# #                   'Apple':np.random.rand(10),'Orange':np.random.rand(10)})\n",
    "\n",
    "# df = pd.DataFrame({'Group':['A','A','A','B','C','B','B','C','A','C'],\\\n",
    "#                   'Apple':np.random.rand(10)})\n",
    "\n",
    "\n",
    "# # df = df[['Group','Apple','Orange']]\n",
    "# df = df[['Group','Apple']]\n",
    "\n",
    "# #         Group    Apple     Orange\n",
    "# #     0      A  0.465636  0.537723\n",
    "# #     1      A  0.560537  0.727238\n",
    "# #     2      A  0.268154  0.648927\n",
    "# #     3      B  0.722644  0.115550\n",
    "# #     4      C  0.586346  0.042896\n",
    "# #     5      B  0.562881  0.369686\n",
    "# #     6      B  0.395236  0.672477\n",
    "# #     7      C  0.577949  0.358801\n",
    "# #     8      A  0.764069  0.642724\n",
    "# #     9      C  0.731076  0.302369\n",
    "\n",
    "# df"
   ]
  },
  {
   "cell_type": "code",
   "execution_count": 3,
   "metadata": {},
   "outputs": [],
   "source": [
    "# # dd=pd.melt(df,id_vars=['Group'],value_vars=['Apple','Orange'],var_name='fruits')\n",
    "# dd=pd.melt(df,id_vars=['Group'],value_vars=['Apple'],var_name='fruits')\n",
    "# # sns.boxplot(x='Group',y='value',data=dd,hue='fruits')\n",
    "# sns.boxplot(x='Group',y='value',data=dd,hue='fruits')"
   ]
  },
  {
   "cell_type": "code",
   "execution_count": 4,
   "metadata": {},
   "outputs": [],
   "source": [
    "# fake up some data\n",
    "spread = np.random.rand(50) * 100\n",
    "center = np.ones(25) * 50\n",
    "flier_high = np.random.rand(10) * 100 + 100\n",
    "flier_low = np.random.rand(10) * -100\n",
    "data = np.concatenate((spread, center, flier_high, flier_low))"
   ]
  },
  {
   "cell_type": "code",
   "execution_count": 5,
   "metadata": {},
   "outputs": [
    {
     "data": {
      "text/plain": [
       "{'whiskers': [<matplotlib.lines.Line2D at 0x1159d6950>,\n",
       "  <matplotlib.lines.Line2D at 0x1159e5ad0>],\n",
       " 'caps': [<matplotlib.lines.Line2D at 0x1159e5fd0>,\n",
       "  <matplotlib.lines.Line2D at 0x1159f5510>],\n",
       " 'boxes': [<matplotlib.lines.Line2D at 0x102819b50>],\n",
       " 'medians': [<matplotlib.lines.Line2D at 0x1159f5a50>],\n",
       " 'fliers': [<matplotlib.lines.Line2D at 0x1159f5f50>],\n",
       " 'means': []}"
      ]
     },
     "execution_count": 5,
     "metadata": {},
     "output_type": "execute_result"
    },
    {
     "data": {
      "image/png": "[encoded data removed]",
      "text/plain": [
       "<Figure size 432x288 with 1 Axes>"
      ]
     },
     "metadata": {
      "needs_background": "light"
     },
     "output_type": "display_data"
    }
   ],
   "source": [
    "fig1, ax1 = plt.subplots()\n",
    "ax1.set_title('Basic Plot')\n",
    "ax1.boxplot(data)\n"
   ]
  },
  {
   "cell_type": "code",
   "execution_count": 11,
   "metadata": {},
   "outputs": [
    {
     "data": {
      "text/plain": [
       "array([ 25.49926823,  32.49629913,  53.07846023,  37.9992942 ,\n",
       "         5.43731871,  74.07158217,   4.11057693,  89.9069646 ,\n",
       "        51.01503988,  93.32934195,  87.43554801,  75.20251564,\n",
       "        73.579665  ,  84.24018484,  70.71593512,   2.31941383,\n",
       "        77.35713594,  33.9376394 ,  78.06551669,  10.29214997,\n",
       "        84.86694512,  13.4534729 ,  22.03739726,  97.07312151,\n",
       "        47.28668283,  46.57124205,  23.29565776,  74.54250089,\n",
       "        31.55092289,   2.17551472,  99.14156268,  92.76199734,\n",
       "        75.64455489,  42.67821033,   4.67048408,  76.31087945,\n",
       "        92.22409577,  39.69856129,  24.22053976,  58.71673783,\n",
       "         4.05366581,  48.14524192,  76.91654217,  64.76833644,\n",
       "        77.5785704 ,   9.41874374,  43.22132581,  96.44841724,\n",
       "         7.77128437,  25.61810756,  50.        ,  50.        ,\n",
       "        50.        ,  50.        ,  50.        ,  50.        ,\n",
       "        50.        ,  50.        ,  50.        ,  50.        ,\n",
       "        50.        ,  50.        ,  50.        ,  50.        ,\n",
       "        50.        ,  50.        ,  50.        ,  50.        ,\n",
       "        50.        ,  50.        ,  50.        ,  50.        ,\n",
       "        50.        ,  50.        ,  50.        , 180.92725017,\n",
       "       197.34264274, 129.56277185, 130.41937097, 124.90926118,\n",
       "       163.13324612, 159.09228138, 112.82197668, 170.21236019,\n",
       "       144.92244624, -62.47837432, -35.30510989, -20.86333565,\n",
       "       -92.74928804, -68.38484638, -59.19503268, -38.00332261,\n",
       "       -80.09241314, -96.46378212, -69.34470355])"
      ]
     },
     "execution_count": 11,
     "metadata": {},
     "output_type": "execute_result"
    }
   ],
   "source": [
    "data"
   ]
  },
  {
   "cell_type": "code",
   "execution_count": 23,
   "metadata": {},
   "outputs": [],
   "source": [
    "spread = np.random.rand(50) * 100\n",
    "center = np.ones(25) * 40\n",
    "flier_high = np.random.rand(10) * 100 + 100\n",
    "flier_low = np.random.rand(10) * -100\n",
    "d2 = np.concatenate((spread, center, flier_high, flier_low))\n",
    "data.shape = (-1, 1)\n",
    "d2.shape = (-1, 1)"
   ]
  },
  {
   "cell_type": "code",
   "execution_count": 24,
   "metadata": {},
   "outputs": [
    {
     "data": {
      "text/plain": [
       "array([[ 25.49926823],\n",
       "       [ 32.49629913],\n",
       "       [ 53.07846023],\n",
       "       [ 37.9992942 ],\n",
       "       [  5.43731871],\n",
       "       [ 74.07158217],\n",
       "       [  4.11057693],\n",
       "       [ 89.9069646 ],\n",
       "       [ 51.01503988],\n",
       "       [ 93.32934195],\n",
       "       [ 87.43554801],\n",
       "       [ 75.20251564],\n",
       "       [ 73.579665  ],\n",
       "       [ 84.24018484],\n",
       "       [ 70.71593512],\n",
       "       [  2.31941383],\n",
       "       [ 77.35713594],\n",
       "       [ 33.9376394 ],\n",
       "       [ 78.06551669],\n",
       "       [ 10.29214997],\n",
       "       [ 84.86694512],\n",
       "       [ 13.4534729 ],\n",
       "       [ 22.03739726],\n",
       "       [ 97.07312151],\n",
       "       [ 47.28668283],\n",
       "       [ 46.57124205],\n",
       "       [ 23.29565776],\n",
       "       [ 74.54250089],\n",
       "       [ 31.55092289],\n",
       "       [  2.17551472],\n",
       "       [ 99.14156268],\n",
       "       [ 92.76199734],\n",
       "       [ 75.64455489],\n",
       "       [ 42.67821033],\n",
       "       [  4.67048408],\n",
       "       [ 76.31087945],\n",
       "       [ 92.22409577],\n",
       "       [ 39.69856129],\n",
       "       [ 24.22053976],\n",
       "       [ 58.71673783],\n",
       "       [  4.05366581],\n",
       "       [ 48.14524192],\n",
       "       [ 76.91654217],\n",
       "       [ 64.76833644],\n",
       "       [ 77.5785704 ],\n",
       "       [  9.41874374],\n",
       "       [ 43.22132581],\n",
       "       [ 96.44841724],\n",
       "       [  7.77128437],\n",
       "       [ 25.61810756],\n",
       "       [ 50.        ],\n",
       "       [ 50.        ],\n",
       "       [ 50.        ],\n",
       "       [ 50.        ],\n",
       "       [ 50.        ],\n",
       "       [ 50.        ],\n",
       "       [ 50.        ],\n",
       "       [ 50.        ],\n",
       "       [ 50.        ],\n",
       "       [ 50.        ],\n",
       "       [ 50.        ],\n",
       "       [ 50.        ],\n",
       "       [ 50.        ],\n",
       "       [ 50.        ],\n",
       "       [ 50.        ],\n",
       "       [ 50.        ],\n",
       "       [ 50.        ],\n",
       "       [ 50.        ],\n",
       "       [ 50.        ],\n",
       "       [ 50.        ],\n",
       "       [ 50.        ],\n",
       "       [ 50.        ],\n",
       "       [ 50.        ],\n",
       "       [ 50.        ],\n",
       "       [ 50.        ],\n",
       "       [180.92725017],\n",
       "       [197.34264274],\n",
       "       [129.56277185],\n",
       "       [130.41937097],\n",
       "       [124.90926118],\n",
       "       [163.13324612],\n",
       "       [159.09228138],\n",
       "       [112.82197668],\n",
       "       [170.21236019],\n",
       "       [144.92244624],\n",
       "       [-62.47837432],\n",
       "       [-35.30510989],\n",
       "       [-20.86333565],\n",
       "       [-92.74928804],\n",
       "       [-68.38484638],\n",
       "       [-59.19503268],\n",
       "       [-38.00332261],\n",
       "       [-80.09241314],\n",
       "       [-96.46378212],\n",
       "       [-69.34470355]])"
      ]
     },
     "execution_count": 24,
     "metadata": {},
     "output_type": "execute_result"
    }
   ],
   "source": [
    "data"
   ]
  },
  {
   "cell_type": "code",
   "execution_count": null,
   "metadata": {},
   "outputs": [],
   "source": [
    "data = [data, d2, d2[::2,0]]\n",
    "fig7, ax7 = plt.subplots()\n",
    "ax7.set_title('Multiple Samples with Different sizes')\n",
    "ax7.boxplot(data)\n",
    "\n",
    "plt.show()\n",
    "\n"
   ]
  },
  {
   "cell_type": "code",
   "execution_count": null,
   "metadata": {},
   "outputs": [],
   "source": []
  },
  {
   "cell_type": "code",
   "execution_count": null,
   "metadata": {},
   "outputs": [],
   "source": []
  },
  {
   "cell_type": "code",
   "execution_count": null,
   "metadata": {},
   "outputs": [],
   "source": [
    "# import matplotlib.pyplot as plt\n",
    "# import numpy as np\n",
    "\n",
    "# fake up some data\n",
    "spread = np.random.rand(50) * 100\n",
    "center = np.ones(25) * 50\n",
    "flier_high = np.random.rand(10) * 100 + 100\n",
    "flier_low = np.random.rand(10) * -100\n",
    "data = np.concatenate((spread, center, flier_high, flier_low), 0)\n",
    "\n",
    "# plot. Set color of marker edge\n",
    "flierprops = dict(marker='o', markerfacecolor='r', markersize=12,\n",
    "                  linestyle='none', markeredgecolor='g')\n",
    "plt.boxplot(data, flierprops=flierprops)\n",
    "\n",
    "# plt.show()\n",
    "spread"
   ]
  },
  {
   "cell_type": "code",
   "execution_count": null,
   "metadata": {},
   "outputs": [],
   "source": []
  }
 ],
 "metadata": {
  "kernelspec": {
   "display_name": "Python 3",
   "language": "python",
   "name": "python3"
  },
  "language_info": {
   "codemirror_mode": {
    "name": "ipython",
    "version": 3
   },
   "file_extension": ".py",
   "mimetype": "text/x-python",
   "name": "python",
   "nbconvert_exporter": "python",
   "pygments_lexer": "ipython3",
   "version": "3.7.4"
  }
 },
 "nbformat": 4,
 "nbformat_minor": 2
}
