{
 "cells": [
  {
   "cell_type": "markdown",
   "metadata": {},
   "source": [
    "## Observations and Insights"
   ]
  },
  {
   "cell_type": "markdown",
   "metadata": {},
   "source": []
  },
  {
   "cell_type": "markdown",
   "metadata": {},
   "source": [
    "## Dependencies"
   ]
  },
  {
   "cell_type": "code",
   "execution_count": 1,
   "metadata": {},
   "outputs": [],
   "source": [
    "# import dependencies\n",
    "import matplotlib.pyplot as plt\n",
    "import pandas as pd\n",
    "import numpy as np\n",
    "import scipy.stats as st"
   ]
  },
  {
   "cell_type": "markdown",
   "metadata": {},
   "source": [
    "## Set the data filepaths & read them in..."
   ]
  },
  {
   "cell_type": "code",
   "execution_count": 2,
   "metadata": {},
   "outputs": [],
   "source": [
    "# csv data files\n",
    "mouse_metadata = \"../../SMU_DS/02-Homework/05-Matplotlib/Instructions/Pymaceuticals/data/Mouse_metadata.csv\"\n",
    "study_results = \"../../SMU_DS/02-Homework/05-Matplotlib/Instructions/Pymaceuticals/data/Study_results.csv\""
   ]
  },
  {
   "cell_type": "code",
   "execution_count": 3,
   "metadata": {},
   "outputs": [],
   "source": [
    "# read csv data files\n",
    "mouse_metadata = pd.read_csv(mouse_metadata)\n",
    "study_results = pd.read_csv(study_results)"
   ]
  },
  {
   "cell_type": "code",
   "execution_count": 4,
   "metadata": {},
   "outputs": [
    {
     "data": {
      "text/html": [
       "<div>\n",
       "<style scoped>\n",
       "    .dataframe tbody tr th:only-of-type {\n",
       "        vertical-align: middle;\n",
       "    }\n",
       "\n",
       "    .dataframe tbody tr th {\n",
       "        vertical-align: top;\n",
       "    }\n",
       "\n",
       "    .dataframe thead th {\n",
       "        text-align: right;\n",
       "    }\n",
       "</style>\n",
       "<table border=\"1\" class=\"dataframe\">\n",
       "  <thead>\n",
       "    <tr style=\"text-align: right;\">\n",
       "      <th></th>\n",
       "      <th>Mouse ID</th>\n",
       "      <th>Drug Regimen</th>\n",
       "      <th>Sex</th>\n",
       "      <th>Age_months</th>\n",
       "      <th>Weight (g)</th>\n",
       "    </tr>\n",
       "  </thead>\n",
       "  <tbody>\n",
       "    <tr>\n",
       "      <td>0</td>\n",
       "      <td>k403</td>\n",
       "      <td>Ramicane</td>\n",
       "      <td>Male</td>\n",
       "      <td>21</td>\n",
       "      <td>16</td>\n",
       "    </tr>\n",
       "    <tr>\n",
       "      <td>1</td>\n",
       "      <td>s185</td>\n",
       "      <td>Capomulin</td>\n",
       "      <td>Female</td>\n",
       "      <td>3</td>\n",
       "      <td>17</td>\n",
       "    </tr>\n",
       "    <tr>\n",
       "      <td>2</td>\n",
       "      <td>x401</td>\n",
       "      <td>Capomulin</td>\n",
       "      <td>Female</td>\n",
       "      <td>16</td>\n",
       "      <td>15</td>\n",
       "    </tr>\n",
       "    <tr>\n",
       "      <td>3</td>\n",
       "      <td>m601</td>\n",
       "      <td>Capomulin</td>\n",
       "      <td>Male</td>\n",
       "      <td>22</td>\n",
       "      <td>17</td>\n",
       "    </tr>\n",
       "    <tr>\n",
       "      <td>4</td>\n",
       "      <td>g791</td>\n",
       "      <td>Ramicane</td>\n",
       "      <td>Male</td>\n",
       "      <td>11</td>\n",
       "      <td>16</td>\n",
       "    </tr>\n",
       "  </tbody>\n",
       "</table>\n",
       "</div>"
      ],
      "text/plain": [
       "  Mouse ID Drug Regimen     Sex  Age_months  Weight (g)\n",
       "0     k403     Ramicane    Male          21          16\n",
       "1     s185    Capomulin  Female           3          17\n",
       "2     x401    Capomulin  Female          16          15\n",
       "3     m601    Capomulin    Male          22          17\n",
       "4     g791     Ramicane    Male          11          16"
      ]
     },
     "execution_count": 4,
     "metadata": {},
     "output_type": "execute_result"
    }
   ],
   "source": [
    "# see what the mouse_metadata data looks like\n",
    "mouse_metadata.head()"
   ]
  },
  {
   "cell_type": "code",
   "execution_count": 5,
   "metadata": {},
   "outputs": [
    {
     "data": {
      "text/html": [
       "<div>\n",
       "<style scoped>\n",
       "    .dataframe tbody tr th:only-of-type {\n",
       "        vertical-align: middle;\n",
       "    }\n",
       "\n",
       "    .dataframe tbody tr th {\n",
       "        vertical-align: top;\n",
       "    }\n",
       "\n",
       "    .dataframe thead th {\n",
       "        text-align: right;\n",
       "    }\n",
       "</style>\n",
       "<table border=\"1\" class=\"dataframe\">\n",
       "  <thead>\n",
       "    <tr style=\"text-align: right;\">\n",
       "      <th></th>\n",
       "      <th>Mouse ID</th>\n",
       "      <th>Timepoint</th>\n",
       "      <th>Tumor Volume (mm3)</th>\n",
       "      <th>Metastatic Sites</th>\n",
       "    </tr>\n",
       "  </thead>\n",
       "  <tbody>\n",
       "    <tr>\n",
       "      <td>0</td>\n",
       "      <td>b128</td>\n",
       "      <td>0</td>\n",
       "      <td>45.0</td>\n",
       "      <td>0</td>\n",
       "    </tr>\n",
       "    <tr>\n",
       "      <td>1</td>\n",
       "      <td>f932</td>\n",
       "      <td>0</td>\n",
       "      <td>45.0</td>\n",
       "      <td>0</td>\n",
       "    </tr>\n",
       "    <tr>\n",
       "      <td>2</td>\n",
       "      <td>g107</td>\n",
       "      <td>0</td>\n",
       "      <td>45.0</td>\n",
       "      <td>0</td>\n",
       "    </tr>\n",
       "    <tr>\n",
       "      <td>3</td>\n",
       "      <td>a457</td>\n",
       "      <td>0</td>\n",
       "      <td>45.0</td>\n",
       "      <td>0</td>\n",
       "    </tr>\n",
       "    <tr>\n",
       "      <td>4</td>\n",
       "      <td>c819</td>\n",
       "      <td>0</td>\n",
       "      <td>45.0</td>\n",
       "      <td>0</td>\n",
       "    </tr>\n",
       "  </tbody>\n",
       "</table>\n",
       "</div>"
      ],
      "text/plain": [
       "  Mouse ID  Timepoint  Tumor Volume (mm3)  Metastatic Sites\n",
       "0     b128          0                45.0                 0\n",
       "1     f932          0                45.0                 0\n",
       "2     g107          0                45.0                 0\n",
       "3     a457          0                45.0                 0\n",
       "4     c819          0                45.0                 0"
      ]
     },
     "execution_count": 5,
     "metadata": {},
     "output_type": "execute_result"
    }
   ],
   "source": [
    "# see what the study_results data looks like\n",
    "study_results.head()"
   ]
  },
  {
   "cell_type": "markdown",
   "metadata": {},
   "source": [
    "## Combine the dataset into one dataset"
   ]
  },
  {
   "cell_type": "code",
   "execution_count": 6,
   "metadata": {},
   "outputs": [],
   "source": [
    "# combine data into one dataset\n",
    "combined_study_data = pd.merge(mouse_metadata, study_results,\n",
    "#                                how=\"outer\",\n",
    "                               on=\"Mouse ID\")\n",
    "# combined_study_data"
   ]
  },
  {
   "cell_type": "code",
   "execution_count": 7,
   "metadata": {},
   "outputs": [
    {
     "data": {
      "text/html": [
       "<div>\n",
       "<style scoped>\n",
       "    .dataframe tbody tr th:only-of-type {\n",
       "        vertical-align: middle;\n",
       "    }\n",
       "\n",
       "    .dataframe tbody tr th {\n",
       "        vertical-align: top;\n",
       "    }\n",
       "\n",
       "    .dataframe thead th {\n",
       "        text-align: right;\n",
       "    }\n",
       "</style>\n",
       "<table border=\"1\" class=\"dataframe\">\n",
       "  <thead>\n",
       "    <tr style=\"text-align: right;\">\n",
       "      <th></th>\n",
       "      <th>Mouse ID</th>\n",
       "      <th>Drug Regimen</th>\n",
       "      <th>Sex</th>\n",
       "      <th>Age_months</th>\n",
       "      <th>Weight (g)</th>\n",
       "      <th>Timepoint</th>\n",
       "      <th>Tumor Volume (mm3)</th>\n",
       "      <th>Metastatic Sites</th>\n",
       "    </tr>\n",
       "  </thead>\n",
       "  <tbody>\n",
       "    <tr>\n",
       "      <td>0</td>\n",
       "      <td>k403</td>\n",
       "      <td>Ramicane</td>\n",
       "      <td>Male</td>\n",
       "      <td>21</td>\n",
       "      <td>16</td>\n",
       "      <td>0</td>\n",
       "      <td>45.000000</td>\n",
       "      <td>0</td>\n",
       "    </tr>\n",
       "    <tr>\n",
       "      <td>1</td>\n",
       "      <td>k403</td>\n",
       "      <td>Ramicane</td>\n",
       "      <td>Male</td>\n",
       "      <td>21</td>\n",
       "      <td>16</td>\n",
       "      <td>5</td>\n",
       "      <td>38.825898</td>\n",
       "      <td>0</td>\n",
       "    </tr>\n",
       "    <tr>\n",
       "      <td>2</td>\n",
       "      <td>k403</td>\n",
       "      <td>Ramicane</td>\n",
       "      <td>Male</td>\n",
       "      <td>21</td>\n",
       "      <td>16</td>\n",
       "      <td>10</td>\n",
       "      <td>35.014271</td>\n",
       "      <td>1</td>\n",
       "    </tr>\n",
       "    <tr>\n",
       "      <td>3</td>\n",
       "      <td>k403</td>\n",
       "      <td>Ramicane</td>\n",
       "      <td>Male</td>\n",
       "      <td>21</td>\n",
       "      <td>16</td>\n",
       "      <td>15</td>\n",
       "      <td>34.223992</td>\n",
       "      <td>1</td>\n",
       "    </tr>\n",
       "    <tr>\n",
       "      <td>4</td>\n",
       "      <td>k403</td>\n",
       "      <td>Ramicane</td>\n",
       "      <td>Male</td>\n",
       "      <td>21</td>\n",
       "      <td>16</td>\n",
       "      <td>20</td>\n",
       "      <td>32.997729</td>\n",
       "      <td>1</td>\n",
       "    </tr>\n",
       "  </tbody>\n",
       "</table>\n",
       "</div>"
      ],
      "text/plain": [
       "  Mouse ID Drug Regimen   Sex  Age_months  Weight (g)  Timepoint  \\\n",
       "0     k403     Ramicane  Male          21          16          0   \n",
       "1     k403     Ramicane  Male          21          16          5   \n",
       "2     k403     Ramicane  Male          21          16         10   \n",
       "3     k403     Ramicane  Male          21          16         15   \n",
       "4     k403     Ramicane  Male          21          16         20   \n",
       "\n",
       "   Tumor Volume (mm3)  Metastatic Sites  \n",
       "0           45.000000                 0  \n",
       "1           38.825898                 0  \n",
       "2           35.014271                 1  \n",
       "3           34.223992                 1  \n",
       "4           32.997729                 1  "
      ]
     },
     "execution_count": 7,
     "metadata": {},
     "output_type": "execute_result"
    }
   ],
   "source": [
    "# create dataset to be used in script below\n",
    "df = combined_study_data\n",
    "df.head()"
   ]
  },
  {
   "cell_type": "markdown",
   "metadata": {},
   "source": [
    "## Summary Statistics"
   ]
  },
  {
   "cell_type": "code",
   "execution_count": 8,
   "metadata": {},
   "outputs": [
    {
     "data": {
      "text/html": [
       "<div>\n",
       "<style scoped>\n",
       "    .dataframe tbody tr th:only-of-type {\n",
       "        vertical-align: middle;\n",
       "    }\n",
       "\n",
       "    .dataframe tbody tr th {\n",
       "        vertical-align: top;\n",
       "    }\n",
       "\n",
       "    .dataframe thead th {\n",
       "        text-align: right;\n",
       "    }\n",
       "</style>\n",
       "<table border=\"1\" class=\"dataframe\">\n",
       "  <thead>\n",
       "    <tr style=\"text-align: right;\">\n",
       "      <th></th>\n",
       "      <th>Drug Regimen</th>\n",
       "      <th>datapoints_count</th>\n",
       "      <th>tumorVol_mean</th>\n",
       "      <th>tumorVol_median</th>\n",
       "      <th>tumorVol_variance</th>\n",
       "      <th>tumorVol_std</th>\n",
       "      <th>tumorVol_sem</th>\n",
       "    </tr>\n",
       "  </thead>\n",
       "  <tbody>\n",
       "    <tr>\n",
       "      <td>0</td>\n",
       "      <td>Capomulin</td>\n",
       "      <td>230</td>\n",
       "      <td>40.675741</td>\n",
       "      <td>41.557809</td>\n",
       "      <td>24.947764</td>\n",
       "      <td>4.994774</td>\n",
       "      <td>0.329346</td>\n",
       "    </tr>\n",
       "    <tr>\n",
       "      <td>1</td>\n",
       "      <td>Ceftamin</td>\n",
       "      <td>178</td>\n",
       "      <td>52.591172</td>\n",
       "      <td>51.776157</td>\n",
       "      <td>39.290177</td>\n",
       "      <td>6.268188</td>\n",
       "      <td>0.469821</td>\n",
       "    </tr>\n",
       "    <tr>\n",
       "      <td>2</td>\n",
       "      <td>Infubinol</td>\n",
       "      <td>178</td>\n",
       "      <td>52.884795</td>\n",
       "      <td>51.820584</td>\n",
       "      <td>43.128684</td>\n",
       "      <td>6.567243</td>\n",
       "      <td>0.492236</td>\n",
       "    </tr>\n",
       "    <tr>\n",
       "      <td>3</td>\n",
       "      <td>Ketapril</td>\n",
       "      <td>188</td>\n",
       "      <td>55.235638</td>\n",
       "      <td>53.698743</td>\n",
       "      <td>68.553577</td>\n",
       "      <td>8.279709</td>\n",
       "      <td>0.603860</td>\n",
       "    </tr>\n",
       "    <tr>\n",
       "      <td>4</td>\n",
       "      <td>Naftisol</td>\n",
       "      <td>186</td>\n",
       "      <td>54.331565</td>\n",
       "      <td>52.509285</td>\n",
       "      <td>66.173479</td>\n",
       "      <td>8.134708</td>\n",
       "      <td>0.596466</td>\n",
       "    </tr>\n",
       "    <tr>\n",
       "      <td>5</td>\n",
       "      <td>Placebo</td>\n",
       "      <td>181</td>\n",
       "      <td>54.033581</td>\n",
       "      <td>52.288934</td>\n",
       "      <td>61.168083</td>\n",
       "      <td>7.821003</td>\n",
       "      <td>0.581331</td>\n",
       "    </tr>\n",
       "    <tr>\n",
       "      <td>6</td>\n",
       "      <td>Propriva</td>\n",
       "      <td>161</td>\n",
       "      <td>52.322552</td>\n",
       "      <td>50.854632</td>\n",
       "      <td>42.351070</td>\n",
       "      <td>6.507770</td>\n",
       "      <td>0.512884</td>\n",
       "    </tr>\n",
       "    <tr>\n",
       "      <td>7</td>\n",
       "      <td>Ramicane</td>\n",
       "      <td>228</td>\n",
       "      <td>40.216745</td>\n",
       "      <td>40.673236</td>\n",
       "      <td>23.486704</td>\n",
       "      <td>4.846308</td>\n",
       "      <td>0.320955</td>\n",
       "    </tr>\n",
       "    <tr>\n",
       "      <td>8</td>\n",
       "      <td>Stelasyn</td>\n",
       "      <td>181</td>\n",
       "      <td>54.233149</td>\n",
       "      <td>52.431737</td>\n",
       "      <td>59.450562</td>\n",
       "      <td>7.710419</td>\n",
       "      <td>0.573111</td>\n",
       "    </tr>\n",
       "    <tr>\n",
       "      <td>9</td>\n",
       "      <td>Zoniferol</td>\n",
       "      <td>182</td>\n",
       "      <td>53.236507</td>\n",
       "      <td>51.818479</td>\n",
       "      <td>48.533355</td>\n",
       "      <td>6.966589</td>\n",
       "      <td>0.516398</td>\n",
       "    </tr>\n",
       "  </tbody>\n",
       "</table>\n",
       "</div>"
      ],
      "text/plain": [
       "  Drug Regimen  datapoints_count  tumorVol_mean  tumorVol_median  \\\n",
       "0    Capomulin               230      40.675741        41.557809   \n",
       "1     Ceftamin               178      52.591172        51.776157   \n",
       "2    Infubinol               178      52.884795        51.820584   \n",
       "3     Ketapril               188      55.235638        53.698743   \n",
       "4     Naftisol               186      54.331565        52.509285   \n",
       "5      Placebo               181      54.033581        52.288934   \n",
       "6     Propriva               161      52.322552        50.854632   \n",
       "7     Ramicane               228      40.216745        40.673236   \n",
       "8     Stelasyn               181      54.233149        52.431737   \n",
       "9    Zoniferol               182      53.236507        51.818479   \n",
       "\n",
       "   tumorVol_variance  tumorVol_std  tumorVol_sem  \n",
       "0          24.947764      4.994774      0.329346  \n",
       "1          39.290177      6.268188      0.469821  \n",
       "2          43.128684      6.567243      0.492236  \n",
       "3          68.553577      8.279709      0.603860  \n",
       "4          66.173479      8.134708      0.596466  \n",
       "5          61.168083      7.821003      0.581331  \n",
       "6          42.351070      6.507770      0.512884  \n",
       "7          23.486704      4.846308      0.320955  \n",
       "8          59.450562      7.710419      0.573111  \n",
       "9          48.533355      6.966589      0.516398  "
      ]
     },
     "execution_count": 8,
     "metadata": {},
     "output_type": "execute_result"
    }
   ],
   "source": [
    "# Generate a summary statistics table of mean, median, variance, standard deviation and SEM of the tumor volume for each regimen\n",
    "regimen_grouped = df.groupby(\"Drug Regimen\").agg(\n",
    "#     tumorVol_min = pd.NamedAgg(column=\"Tumor Volume (mm3)\", aggfunc = \"min\"),\n",
    "#     tumorVol_max = pd.NamedAgg(column=\"Tumor Volume (mm3)\", aggfunc = \"max\"),\n",
    "    datapoints_count = pd.NamedAgg(column=\"Tumor Volume (mm3)\", aggfunc = \"count\"),\n",
    "    tumorVol_mean = pd.NamedAgg(column=\"Tumor Volume (mm3)\", aggfunc = \"mean\"),\n",
    "    tumorVol_median = pd.NamedAgg(column=\"Tumor Volume (mm3)\", aggfunc = \"median\"),\n",
    "    tumorVol_variance = pd.NamedAgg(column=\"Tumor Volume (mm3)\", aggfunc = \"var\"),\n",
    "    tumorVol_std = pd.NamedAgg(column=\"Tumor Volume (mm3)\", aggfunc = \"std\"),\n",
    "    tumorVol_sem = pd.NamedAgg(column=\"Tumor Volume (mm3)\", aggfunc = \"sem\")\n",
    ")\n",
    "regimen_grouped = regimen_grouped.reset_index()\n",
    "# regimen_grouped_df = pd.DataFrame(regimen_grouped)\n",
    "# regimen_grouped_df\n",
    "regimen_grouped\n"
   ]
  },
  {
   "cell_type": "markdown",
   "metadata": {},
   "source": [
    "## Bar Plots: Distribution of data point by Drug Regimen"
   ]
  },
  {
   "cell_type": "markdown",
   "metadata": {},
   "source": [
    "Generate a bar plot showing number of data points for each treatment regimen using pandas\n",
    "\n",
    "NOTE: this is using Pandas DataFrame.plot()"
   ]
  },
  {
   "cell_type": "code",
   "execution_count": 9,
   "metadata": {},
   "outputs": [
    {
     "data": {
      "text/plain": [
       "<matplotlib.axes._subplots.AxesSubplot at 0x1a20304850>"
      ]
     },
     "execution_count": 9,
     "metadata": {},
     "output_type": "execute_result"
    },
    {
     "data": {
      "image/png": "[encoded data removed]",
      "text/plain": [
       "<Figure size 432x288 with 1 Axes>"
      ]
     },
     "metadata": {
      "needs_background": "light"
     },
     "output_type": "display_data"
    }
   ],
   "source": [
    "# create dataframe with data point counts by \"Drug Regimen\"\n",
    "\n",
    "# datapoint_count_data = df[\"Drug Regimen\"].value_counts()\n",
    "# datapoint_count_data = pd.DataFrame(datapoint_count_data)\n",
    "datapoint_count_data = pd.DataFrame(df[\"Drug Regimen\"].value_counts())\n",
    "\n",
    "# reset index and rename columns\n",
    "datapoint_count_data = datapoint_count_data.reset_index()\n",
    "datapoint_count_data = datapoint_count_data.rename(columns={\"Drug Regimen\": \"Count\",\n",
    "                                                           \"index\": \"Drug Regimen\"})\n",
    "\n",
    "# Resort data alphabetically by \"Drug Regiman\" and set index back to \"Drug Regimen\"\n",
    "datapoint_count_data = datapoint_count_data.sort_values(\"Drug Regimen\", ascending=True)\n",
    "datapoint_count_data = datapoint_count_data.set_index(\"Drug Regimen\")\n",
    "# datapoint_count_data\n",
    "\n",
    "# Configure plot and ticks\n",
    "datapoint_count_data.plot(kind=\"bar\",\n",
    "                          facecolor=\"gray\",\n",
    "                          rot=90,\n",
    "                          alpha=.75,\n",
    "                          legend=False,\n",
    "                          title=\"Total datapoints per Drug Regimen\",\n",
    "                          width=0.75\n",
    "                         )\n"
   ]
  },
  {
   "cell_type": "markdown",
   "metadata": {},
   "source": [
    "Generate a bar plot showing number of data points for each treatment regimen using pyplot\n",
    "\n",
    "NOTE: this is using matplotlib.pyplot"
   ]
  },
  {
   "cell_type": "code",
   "execution_count": 10,
   "metadata": {
    "scrolled": true
   },
   "outputs": [
    {
     "data": {
      "text/plain": [
       "Text(0.5, 0, 'Drug Regimen')"
      ]
     },
     "execution_count": 10,
     "metadata": {},
     "output_type": "execute_result"
    },
    {
     "data": {
      "image/png": "[encoded data removed]",
      "text/plain": [
       "<Figure size 432x288 with 1 Axes>"
      ]
     },
     "metadata": {
      "needs_background": "light"
     },
     "output_type": "display_data"
    }
   ],
   "source": [
    "# Generate a bar plot showing number of data points for each treatment regimen using pyplot\n",
    "# Set x axis and tick locations\n",
    "x_axis = np.arange(len(regimen_grouped))\n",
    "tick_locations = [value for value in x_axis]\n",
    "\n",
    "plt.bar(x_axis, regimen_grouped[\"datapoints_count\"], color=\"gray\", alpha=0.75)\n",
    "plt.xticks(tick_locations, regimen_grouped[\"Drug Regimen\"], rotation=\"vertical\")\n",
    "\n",
    "plt.title(\"Total datapoints per Drug Regimen\")\n",
    "plt.xlabel('Drug Regimen')\n",
    "# plt.ylabel('# of datapoints')\n",
    "# plt.show()\n",
    "# plt.tight_layout()\n"
   ]
  },
  {
   "cell_type": "markdown",
   "metadata": {},
   "source": [
    "## Pie Plots - Distribution of Female vs. Male Mice"
   ]
  },
  {
   "cell_type": "markdown",
   "metadata": {},
   "source": [
    "Generate a pie plot showing the distribution of female versus male mice using pandas\n",
    "\n",
    "NOTE: this is using Pandas DataFrame.plot()"
   ]
  },
  {
   "cell_type": "code",
   "execution_count": 11,
   "metadata": {},
   "outputs": [
    {
     "data": {
      "text/plain": [
       "<matplotlib.axes._subplots.AxesSubplot at 0x1a20b88cd0>"
      ]
     },
     "execution_count": 11,
     "metadata": {},
     "output_type": "execute_result"
    },
    {
     "data": {
      "image/png": "[encoded data removed]",
      "text/plain": [
       "<Figure size 432x288 with 1 Axes>"
      ]
     },
     "metadata": {},
     "output_type": "display_data"
    }
   ],
   "source": [
    "# create dataframe with number of female vs male mice, broken down by \"Sex\"\n",
    "gender_count = pd.DataFrame(mouse_metadata[\"Sex\"].value_counts())\n",
    "\n",
    "# Configure plot\n",
    "gender_count.plot(kind=\"pie\",\n",
    "                  y=\"Sex\",\n",
    "                  autopct='%1.1f%%',\n",
    "                  startangle=90,\n",
    "                  shadow=False,\n",
    "                  label=\"\",\n",
    "                  legend=False,\n",
    "                  fontsize=14,\n",
    "                  title=\"Distribution of Female vs. Male Mice\"\n",
    "                 )\n",
    "# gender_count\n"
   ]
  },
  {
   "cell_type": "markdown",
   "metadata": {},
   "source": [
    "Generate a pie plot showing the distribution of female versus male mice using pyplot\n",
    "\n",
    "NOTE: this is using matplotlib.pyplot"
   ]
  },
  {
   "cell_type": "code",
   "execution_count": 12,
   "metadata": {},
   "outputs": [
    {
     "data": {
      "image/png": "[encoded data removed]",
      "text/plain": [
       "<Figure size 432x288 with 1 Axes>"
      ]
     },
     "metadata": {},
     "output_type": "display_data"
    }
   ],
   "source": [
    "# using same dataframe, reset index and rename columns\n",
    "gender_count = gender_count.reset_index()\n",
    "gender_count = gender_count.rename(columns={\"Sex\": \"Count\",\n",
    "                                            \"index\": \"Sex\"})\n",
    "# gender_count\n",
    "\n",
    "# create lists to house unique values of \"Sex\" and the count per \"sex\" in same index position\n",
    "gender_list = gender_count[\"Sex\"].tolist()\n",
    "# gender_list\n",
    "gender_count_list = gender_count[\"Count\"].tolist()\n",
    "# gender_count_list\n",
    "# explode=(0,0)\n",
    "# explode\n",
    "\n",
    "# Configure Plot\n",
    "plt.pie(gender_count_list,\n",
    "        labels=gender_list,\n",
    "#         explode=explode,\n",
    "        autopct='%1.1f%%',\n",
    "        startangle=90,\n",
    "        shadow=False,\n",
    "        textprops={'fontsize': 14}\n",
    "       )\n",
    "plt.title('Distribution of Female vs. Male Mice')\n",
    "plt.show()\n"
   ]
  },
  {
   "cell_type": "markdown",
   "metadata": {},
   "source": [
    "## Quartiles, outliers and boxplots"
   ]
  },
  {
   "cell_type": "markdown",
   "metadata": {},
   "source": [
    "Calculate the final tumor volume of each mouse across four of the most promising treatment regimens: Capomulin, Ramicane, Infubinol, and Ceftamin.\n",
    "\n",
    "\n",
    "Calculate the quartiles and IQR and quantitatively determine if there are any potential outliers across all four treatment regimens."
   ]
  },
  {
   "cell_type": "code",
   "execution_count": 159,
   "metadata": {},
   "outputs": [
    {
     "data": {
      "text/html": [
       "<div>\n",
       "<style scoped>\n",
       "    .dataframe tbody tr th:only-of-type {\n",
       "        vertical-align: middle;\n",
       "    }\n",
       "\n",
       "    .dataframe tbody tr th {\n",
       "        vertical-align: top;\n",
       "    }\n",
       "\n",
       "    .dataframe thead th {\n",
       "        text-align: right;\n",
       "    }\n",
       "</style>\n",
       "<table border=\"1\" class=\"dataframe\">\n",
       "  <thead>\n",
       "    <tr style=\"text-align: right;\">\n",
       "      <th></th>\n",
       "      <th>Drug Regimen</th>\n",
       "      <th>finalTumorVolume</th>\n",
       "    </tr>\n",
       "  </thead>\n",
       "  <tbody>\n",
       "    <tr>\n",
       "      <td>0</td>\n",
       "      <td>Ramicane</td>\n",
       "      <td>22.050126</td>\n",
       "    </tr>\n",
       "    <tr>\n",
       "      <td>1</td>\n",
       "      <td>Capomulin</td>\n",
       "      <td>23.343598</td>\n",
       "    </tr>\n",
       "    <tr>\n",
       "      <td>2</td>\n",
       "      <td>Capomulin</td>\n",
       "      <td>28.484033</td>\n",
       "    </tr>\n",
       "    <tr>\n",
       "      <td>3</td>\n",
       "      <td>Capomulin</td>\n",
       "      <td>28.430964</td>\n",
       "    </tr>\n",
       "    <tr>\n",
       "      <td>4</td>\n",
       "      <td>Ramicane</td>\n",
       "      <td>29.128472</td>\n",
       "    </tr>\n",
       "    <tr>\n",
       "      <td>...</td>\n",
       "      <td>...</td>\n",
       "      <td>...</td>\n",
       "    </tr>\n",
       "    <tr>\n",
       "      <td>95</td>\n",
       "      <td>Ceftamin</td>\n",
       "      <td>61.386660</td>\n",
       "    </tr>\n",
       "    <tr>\n",
       "      <td>96</td>\n",
       "      <td>Infubinol</td>\n",
       "      <td>67.685569</td>\n",
       "    </tr>\n",
       "    <tr>\n",
       "      <td>97</td>\n",
       "      <td>Ceftamin</td>\n",
       "      <td>68.594745</td>\n",
       "    </tr>\n",
       "    <tr>\n",
       "      <td>98</td>\n",
       "      <td>Ceftamin</td>\n",
       "      <td>64.729837</td>\n",
       "    </tr>\n",
       "    <tr>\n",
       "      <td>99</td>\n",
       "      <td>Infubinol</td>\n",
       "      <td>62.754451</td>\n",
       "    </tr>\n",
       "  </tbody>\n",
       "</table>\n",
       "<p>100 rows × 2 columns</p>\n",
       "</div>"
      ],
      "text/plain": [
       "   Drug Regimen  finalTumorVolume\n",
       "0      Ramicane         22.050126\n",
       "1     Capomulin         23.343598\n",
       "2     Capomulin         28.484033\n",
       "3     Capomulin         28.430964\n",
       "4      Ramicane         29.128472\n",
       "..          ...               ...\n",
       "95     Ceftamin         61.386660\n",
       "96    Infubinol         67.685569\n",
       "97     Ceftamin         68.594745\n",
       "98     Ceftamin         64.729837\n",
       "99    Infubinol         62.754451\n",
       "\n",
       "[100 rows x 2 columns]"
      ]
     },
     "execution_count": 159,
     "metadata": {},
     "output_type": "execute_result"
    }
   ],
   "source": [
    "# Calculate the final tumor volume of each mouse across four of the most promising treatment regimens:\n",
    "#   Capomulin, Ramicane, Infubinol, and Ceftamin.\n",
    "\n",
    "# create a new data frame\n",
    "finalTumorVolumes = df\n",
    "\n",
    "# # *ANOTHER OPTION FOR SORTING; Sort \"Timepoint\" in descending order by \"Mouse ID\"\n",
    "# finalTumorVolumes = finalTumorVolumes.sort_values([\"Mouse ID\", \"Timepoint\"], ascending=[True, False])\n",
    "# finalTumorVolumes = finalTumorVolumes.set_index([\"Mouse ID\", \"Timepoint\"])\n",
    "# finalTumorVolumes = finalTumorVolumes.reset_index()\n",
    "# finalTumorVolumes = finalTumorVolumes.drop_duplicates(\"Mouse ID\")\n",
    "\n",
    "# add column: \"finalTimepoint\" to the data frame, set equal to the max \"Timeframe\" for each \"Mouse ID\"\n",
    "finalTumorVolumes[\"finalTimepoint\"] = finalTumorVolumes.groupby([\"Mouse ID\"])[\"Timepoint\"].transform(max)\n",
    "\n",
    "# add column: \"finalTimepointFlag\" to the data frame, set to 1 when it is the last \"Timepoint\" for each \"Mouse ID\"\n",
    "finalTumorVolumes[\"finalTimepointFlag\"] = np.where(finalTumorVolumes[\"Timepoint\"] == finalTumorVolumes[\"finalTimepoint\"], 1, 0)\n",
    "\n",
    "# filter to only the final \"Timepoint\" for each \"Mouse ID\"\n",
    "# finalTumorVolumes = finalTumorVolumes.loc[finalTumorVolumes[\"Timepoint\"] == finalTumorVolumes[\"finalTimepoint\"]]\n",
    "finalTumorVolumes = finalTumorVolumes.loc[finalTumorVolumes[\"finalTimepointFlag\"] == 1]\n",
    "\n",
    "# filter to only include Capomulin, Ramicane, Infubinol and Ceftamin drug regimens\n",
    "finalTumorVolumes = finalTumorVolumes.loc[(finalTumorVolumes[\"Drug Regimen\"] == \"Capomulin\") |\n",
    "                                          (finalTumorVolumes[\"Drug Regimen\"] == \"Ramicane\") |\n",
    "                                          (finalTumorVolumes[\"Drug Regimen\"] == \"Infubinol\") |\n",
    "                                          (finalTumorVolumes[\"Drug Regimen\"] == \"Ceftamin\")\n",
    "                                         ]\n",
    "\n",
    "# reset index\n",
    "finalTumorVolumes = finalTumorVolumes.reset_index()\n",
    "\n",
    "# delete/drop old \"index\" column moved over when index was reset\n",
    "finalTumorVolumes.drop(\"index\", axis=1, inplace=True)\n",
    "\n",
    "# rename \"Tumor Volume (mm3)\": \"finalTumorVolume\"\n",
    "finalTumorVolumes = finalTumorVolumes.rename(columns={\"Tumor Volume (mm3)\": \"finalTumorVolume\"})\n",
    "\n",
    "# grab only columns needed\n",
    "finalTumorVolumes = finalTumorVolumes[[\"Drug Regimen\",\"finalTumorVolume\"]]\n",
    "\n",
    "# set \"Drug Regimen\" as index\n",
    "# finalTumorVolumes = finalTumorVolumes.set_index(\"Drug Regimen\")\n",
    "finalTumorVolumes\n"
   ]
  },
  {
   "cell_type": "code",
   "execution_count": 18,
   "metadata": {},
   "outputs": [],
   "source": [
    "# final timepoint by \"Mouse ID\"\n",
    "# df3 = study_results.groupby([\"Mouse ID\"]).agg(finalTimepoint = pd.NamedAgg(column=\"Timepoint\", aggfunc = \"max\"))\n",
    "\n",
    "# # df3 = df3.reset_index()\n",
    "# df3 = pd.merge(study_results,\n",
    "#                df3,\n",
    "# #                how=\"outer\",\n",
    "#                on=\"Mouse ID\")\n",
    "\n",
    "# df3.sort_values(\"finalTimepoint\", ascending=True)\n"
   ]
  },
  {
   "cell_type": "code",
   "execution_count": null,
   "metadata": {},
   "outputs": [],
   "source": []
  },
  {
   "cell_type": "code",
   "execution_count": null,
   "metadata": {},
   "outputs": [],
   "source": []
  },
  {
   "cell_type": "code",
   "execution_count": 55,
   "metadata": {},
   "outputs": [
    {
     "name": "stdout",
     "output_type": "stream",
     "text": [
      "The lower quartile is: 37.187743802499995\n",
      "The upper quartile is: 59.930261755000004\n",
      "The interquartile range is: 22.74251795250001\n",
      "The the median is: 45.0 \n",
      "Values below 3.0739668737499812 could be outliers.\n",
      "Values above 94.04403868375002 could be outliers.\n",
      "There are 0 potential outlier(s), based on the IQR and quantitative determination.\n"
     ]
    },
    {
     "data": {
      "text/plain": [
       "0"
      ]
     },
     "execution_count": 55,
     "metadata": {},
     "output_type": "execute_result"
    }
   ],
   "source": [
    "# Calculate the IQR and quantitatively determine if there are any potential outliers - including all four regimens\n",
    "\n",
    "# Determine if there are any potential outliers population\n",
    "finalTumorVolumes_quartiles = finalTumorVolumes['finalTumorVolume'].quantile([0.25,0.5,0.75])\n",
    "finalTumorVolumes_lowerQ = finalTumorVolumes_quartiles[0.25]\n",
    "finalTumorVolumes_upperQ = finalTumorVolumes_quartiles[0.75]\n",
    "finalTumorVolumes_iqr = finalTumorVolumes_upperQ - finalTumorVolumes_lowerQ\n",
    "\n",
    "print(f\"The lower quartile is: {finalTumorVolumes_lowerQ}\")\n",
    "print(f\"The upper quartile is: {finalTumorVolumes_upperQ}\")\n",
    "print(f\"The interquartile range is: {finalTumorVolumes_iqr}\")\n",
    "print(f\"The the median is: {finalTumorVolumes_quartiles[0.5]} \")\n",
    "\n",
    "finalTumorVolumes_lower_bound = finalTumorVolumes_lowerQ - (1.5 * finalTumorVolumes_iqr)\n",
    "finalTumorVolumes_upper_bound = finalTumorVolumes_upperQ + (1.5 * finalTumorVolumes_iqr)\n",
    "print(f\"Values below {finalTumorVolumes_lower_bound} could be outliers.\")\n",
    "print(f\"Values above {finalTumorVolumes_upper_bound} could be outliers.\")\n",
    "\n",
    "outlier_finalTumorVolume = finalTumorVolumes.loc[(finalTumorVolumes['finalTumorVolume'] < finalTumorVolumes_lower_bound) |\n",
    "                                                 (finalTumorVolumes['finalTumorVolume'] > finalTumorVolumes_upper_bound)]\n",
    "print(f\"There are {len(outlier_finalTumorVolume)} potential outlier(s), based on the IQR and quantitative determination.\")\n",
    "\n",
    "len(outlier_finalTumorVolume)\n"
   ]
  },
  {
   "cell_type": "code",
   "execution_count": 44,
   "metadata": {},
   "outputs": [
    {
     "name": "stdout",
     "output_type": "stream",
     "text": [
      "The lower quartile is: 37.187743802499995\n",
      "The upper quartile is: 59.930261755000004\n",
      "The interquartile range is: 22.74251795250001\n",
      "The the median is: 45.0 \n",
      "Values below 3.0739668737499812 could be outliers.\n",
      "Values above 94.04403868375002 could be outliers.\n",
      "There are 0 potential outlier(s), based on the IQR and quantitative determination.\n"
     ]
    },
    {
     "data": {
      "text/plain": [
       "0"
      ]
     },
     "execution_count": 44,
     "metadata": {},
     "output_type": "execute_result"
    }
   ],
   "source": [
    "# Calculate the IQR and quantitatively determine if there are any potential outliers - including all four regimens\n",
    "\n",
    "# Determine if there are any potential outliers population\n",
    "finalTumorVolumes_quartiles = finalTumorVolumes['finalTumorVolume'].quantile([0.25,0.5,0.75])\n",
    "finalTumorVolumes_lowerQ = finalTumorVolumes_quartiles[0.25]\n",
    "finalTumorVolumes_upperQ = finalTumorVolumes_quartiles[0.75]\n",
    "finalTumorVolumes_iqr = finalTumorVolumes_upperQ - finalTumorVolumes_lowerQ\n",
    "\n",
    "print(f\"The lower quartile is: {finalTumorVolumes_lowerQ}\")\n",
    "print(f\"The upper quartile is: {finalTumorVolumes_upperQ}\")\n",
    "print(f\"The interquartile range is: {finalTumorVolumes_iqr}\")\n",
    "print(f\"The the median is: {finalTumorVolumes_quartiles[0.5]} \")\n",
    "\n",
    "finalTumorVolumes_lower_bound = finalTumorVolumes_lowerQ - (1.5 * finalTumorVolumes_iqr)\n",
    "finalTumorVolumes_upper_bound = finalTumorVolumes_upperQ + (1.5 * finalTumorVolumes_iqr)\n",
    "print(f\"Values below {finalTumorVolumes_lower_bound} could be outliers.\")\n",
    "print(f\"Values above {finalTumorVolumes_upper_bound} could be outliers.\")\n",
    "\n",
    "outlier_finalTumorVolume = finalTumorVolumes.loc[(finalTumorVolumes['finalTumorVolume'] < finalTumorVolumes_lower_bound) |\n",
    "                                                 (finalTumorVolumes['finalTumorVolume'] > finalTumorVolumes_upper_bound)]\n",
    "print(f\"There are {len(outlier_finalTumorVolume)} potential outlier(s), based on the IQR and quantitative determination.\")\n",
    "\n",
    "len(outlier_finalTumorVolume)\n"
   ]
  },
  {
   "cell_type": "code",
   "execution_count": 56,
   "metadata": {},
   "outputs": [
    {
     "data": {
      "image/png": "[encoded data removed]",
      "text/plain": [
       "<Figure size 432x288 with 1 Axes>"
      ]
     },
     "metadata": {
      "needs_background": "light"
     },
     "output_type": "display_data"
    }
   ],
   "source": [
    "xyz = finalTumorVolumes[\"finalTumorVolume\"].tolist()\n",
    "\n",
    "fig1, ax1 = plt.subplots()\n",
    "ax1.set_title(\"xxxTITLExxx\")\n",
    "ax1.set_ylabel(\"Final Tumor Volume (mm3)\")\n",
    "ax1.boxplot(xyz)\n",
    "plt.show()\n"
   ]
  },
  {
   "cell_type": "code",
   "execution_count": 72,
   "metadata": {},
   "outputs": [],
   "source": [
    "# # # dd=pd.melt(df,id_vars=['Group'],value_vars=['Apple','Orange'],var_name='fruits')\n",
    "# # dd=pd.melt(df,id_vars=['Group'],value_vars=['Apple'],var_name='fruits')\n",
    "# # # sns.boxplot(x='Group',y='value',data=dd,hue='fruits')\n",
    "# # sns.boxplot(x='Group',y='value',data=dd,hue='fruits')\n",
    "\n",
    "# import seaborn as sns\n",
    "\n",
    "# dd = pd.melt(finalTumorVolumes,id_vars=[\"Drug Regimen\"],value_vars=[\"finalTumorVolume\"],var_name=\"xyz\")\n",
    "# sns.boxplot(x=\"Drug Regimen\",y=\"finalTumorVolume\",data=dd,hue=\"xyz\")"
   ]
  },
  {
   "cell_type": "code",
   "execution_count": 71,
   "metadata": {},
   "outputs": [],
   "source": [
    "# grouped_xyz = finalTumorVolumes\n",
    "\n",
    "\n",
    "# grouped_xyz = finalTumorVolumes.groupby(level=\"Drug Regimen\")\n",
    "# boxplot_frame_groupby(grouped_xyz)\n",
    "\n",
    "# grouped_xyz = finalTumorVolumes.unstack(level=\"Drug Regimen\").groupby(level=0, axis=1)\n",
    "# DataFrameGroupBy.boxplot(grouped_xyz, subplots=False)\n",
    "\n",
    "\n",
    "# finalTumorVolumes\n"
   ]
  },
  {
   "cell_type": "code",
   "execution_count": 167,
   "metadata": {},
   "outputs": [
    {
     "data": {
      "text/plain": [
       "<matplotlib.axes._subplots.AxesSubplot at 0x1a28322f10>"
      ]
     },
     "execution_count": 167,
     "metadata": {},
     "output_type": "execute_result"
    },
    {
     "data": {
      "image/png": "[encoded data removed]",
      "text/plain": [
       "<Figure size 576x432 with 1 Axes>"
      ]
     },
     "metadata": {
      "needs_background": "light"
     },
     "output_type": "display_data"
    }
   ],
   "source": [
    "finalTumorVolumes.boxplot(column=[\"finalTumorVolume\"],\n",
    "                          by=\"Drug Regimen\",\n",
    "                          figsize=(8,6),\n",
    "                          fontsize=12,\n",
    "                          \n",
    "                          \n",
    "                         )"
   ]
  },
  {
   "cell_type": "code",
   "execution_count": 94,
   "metadata": {},
   "outputs": [
    {
     "data": {
      "image/png": "[encoded data removed]",
      "text/plain": [
       "<Figure size 432x288 with 1 Axes>"
      ]
     },
     "metadata": {
      "needs_background": "light"
     },
     "output_type": "display_data"
    }
   ],
   "source": [
    "xyz = finalTumorVolumes[\"finalTumorVolume\"].tolist()\n",
    "\n",
    "fig1, ax1 = plt.subplots()\n",
    "ax1.set_title(\"xxxTITLExxx\")\n",
    "ax1.set_ylabel(\"Final Tumor Volume (mm3)\")\n",
    "ax1.boxplot(xyz)\n",
    "plt.show()"
   ]
  },
  {
   "cell_type": "code",
   "execution_count": 139,
   "metadata": {},
   "outputs": [
    {
     "data": {
      "image/png": "[encoded data removed]",
      "text/plain": [
       "<Figure size 432x288 with 1 Axes>"
      ]
     },
     "metadata": {
      "needs_background": "light"
     },
     "output_type": "display_data"
    },
    {
     "data": {
      "text/plain": [
       "['Ramicane', 'Capomulin', 'Infubinol', 'Ceftamin']"
      ]
     },
     "execution_count": 139,
     "metadata": {},
     "output_type": "execute_result"
    }
   ],
   "source": [
    "# drugRegimenList = finalTumorVolumes.groupby(\"Drug Regimen\")\n",
    "drugRegimenList = finalTumorVolumes[[\"Drug Regimen\"]]\n",
    "drugRegimenList = drugRegimenList.drop_duplicates(\"Drug Regimen\")\n",
    "drugRegimenList = drugRegimenList[\"Drug Regimen\"].tolist()\n",
    "\n",
    "plt.boxplot(finalTumorVolumes[\"finalTumorVolume\"],\n",
    "#             labels=finalTumorVolumes[\"Drug Regimen\"],\n",
    "#     gender_count_list,\n",
    "#         labels=gender_list,\n",
    "# #         explode=explode,\n",
    "#         autopct='%1.1f%%',\n",
    "#         startangle=90,\n",
    "#         shadow=False,\n",
    "#         textprops={'fontsize': 14}\n",
    "       )\n",
    "plt.show()\n",
    "# finalTumorVolumes[\"Drug Regimen\"].tolist()\n",
    "drugRegimenList"
   ]
  },
  {
   "cell_type": "code",
   "execution_count": 160,
   "metadata": {},
   "outputs": [
    {
     "data": {
      "text/plain": [
       "{'whiskers': [<matplotlib.lines.Line2D at 0x1a27f75ad0>,\n",
       "  <matplotlib.lines.Line2D at 0x1a27ec4c90>],\n",
       " 'caps': [<matplotlib.lines.Line2D at 0x1a27f4ea90>,\n",
       "  <matplotlib.lines.Line2D at 0x1a27eca6d0>],\n",
       " 'boxes': [<matplotlib.lines.Line2D at 0x1a27f75a90>],\n",
       " 'medians': [<matplotlib.lines.Line2D at 0x1a27ecac10>],\n",
       " 'fliers': [<matplotlib.lines.Line2D at 0x1a27ec4bd0>],\n",
       " 'means': []}"
      ]
     },
     "execution_count": 160,
     "metadata": {},
     "output_type": "execute_result"
    },
    {
     "data": {
      "image/png": "[encoded data removed]",
      "text/plain": [
       "<Figure size 432x288 with 1 Axes>"
      ]
     },
     "metadata": {
      "needs_background": "light"
     },
     "output_type": "display_data"
    }
   ],
   "source": [
    "\n",
    "x_axis_2 = np.arange(len(drugRegimenList))\n",
    "\n",
    "\n",
    "fig, ax = plt.subplots()\n",
    "ax.boxplot(finalTumorVolumes[\"finalTumorVolume\"]\n",
    "#            finalTumorVolumes[\"Drug Regimen\"]\n",
    "          )"
   ]
  },
  {
   "cell_type": "code",
   "execution_count": 163,
   "metadata": {},
   "outputs": [
    {
     "data": {
      "text/html": [
       "<div>\n",
       "<style scoped>\n",
       "    .dataframe tbody tr th:only-of-type {\n",
       "        vertical-align: middle;\n",
       "    }\n",
       "\n",
       "    .dataframe tbody tr th {\n",
       "        vertical-align: top;\n",
       "    }\n",
       "\n",
       "    .dataframe thead th {\n",
       "        text-align: right;\n",
       "    }\n",
       "</style>\n",
       "<table border=\"1\" class=\"dataframe\">\n",
       "  <thead>\n",
       "    <tr style=\"text-align: right;\">\n",
       "      <th></th>\n",
       "      <th>Drug Regimen</th>\n",
       "      <th>finalTumorVolume</th>\n",
       "    </tr>\n",
       "  </thead>\n",
       "  <tbody>\n",
       "    <tr>\n",
       "      <td>0</td>\n",
       "      <td>Ramicane</td>\n",
       "      <td>22.050126</td>\n",
       "    </tr>\n",
       "    <tr>\n",
       "      <td>4</td>\n",
       "      <td>Ramicane</td>\n",
       "      <td>29.128472</td>\n",
       "    </tr>\n",
       "    <tr>\n",
       "      <td>5</td>\n",
       "      <td>Ramicane</td>\n",
       "      <td>30.276232</td>\n",
       "    </tr>\n",
       "    <tr>\n",
       "      <td>7</td>\n",
       "      <td>Ramicane</td>\n",
       "      <td>30.564625</td>\n",
       "    </tr>\n",
       "    <tr>\n",
       "      <td>8</td>\n",
       "      <td>Ramicane</td>\n",
       "      <td>30.638696</td>\n",
       "    </tr>\n",
       "    <tr>\n",
       "      <td>9</td>\n",
       "      <td>Ramicane</td>\n",
       "      <td>31.560470</td>\n",
       "    </tr>\n",
       "    <tr>\n",
       "      <td>11</td>\n",
       "      <td>Ramicane</td>\n",
       "      <td>31.095335</td>\n",
       "    </tr>\n",
       "    <tr>\n",
       "      <td>15</td>\n",
       "      <td>Ramicane</td>\n",
       "      <td>33.397653</td>\n",
       "    </tr>\n",
       "    <tr>\n",
       "      <td>17</td>\n",
       "      <td>Ramicane</td>\n",
       "      <td>32.978522</td>\n",
       "    </tr>\n",
       "    <tr>\n",
       "      <td>18</td>\n",
       "      <td>Ramicane</td>\n",
       "      <td>33.562402</td>\n",
       "    </tr>\n",
       "    <tr>\n",
       "      <td>19</td>\n",
       "      <td>Ramicane</td>\n",
       "      <td>36.134852</td>\n",
       "    </tr>\n",
       "    <tr>\n",
       "      <td>21</td>\n",
       "      <td>Ramicane</td>\n",
       "      <td>38.810366</td>\n",
       "    </tr>\n",
       "    <tr>\n",
       "      <td>23</td>\n",
       "      <td>Ramicane</td>\n",
       "      <td>37.225650</td>\n",
       "    </tr>\n",
       "    <tr>\n",
       "      <td>25</td>\n",
       "      <td>Ramicane</td>\n",
       "      <td>36.374510</td>\n",
       "    </tr>\n",
       "    <tr>\n",
       "      <td>26</td>\n",
       "      <td>Ramicane</td>\n",
       "      <td>36.561652</td>\n",
       "    </tr>\n",
       "    <tr>\n",
       "      <td>27</td>\n",
       "      <td>Ramicane</td>\n",
       "      <td>37.311236</td>\n",
       "    </tr>\n",
       "    <tr>\n",
       "      <td>29</td>\n",
       "      <td>Ramicane</td>\n",
       "      <td>38.342008</td>\n",
       "    </tr>\n",
       "    <tr>\n",
       "      <td>33</td>\n",
       "      <td>Ramicane</td>\n",
       "      <td>38.407618</td>\n",
       "    </tr>\n",
       "    <tr>\n",
       "      <td>41</td>\n",
       "      <td>Ramicane</td>\n",
       "      <td>40.659006</td>\n",
       "    </tr>\n",
       "    <tr>\n",
       "      <td>42</td>\n",
       "      <td>Ramicane</td>\n",
       "      <td>40.667713</td>\n",
       "    </tr>\n",
       "    <tr>\n",
       "      <td>43</td>\n",
       "      <td>Ramicane</td>\n",
       "      <td>45.220869</td>\n",
       "    </tr>\n",
       "    <tr>\n",
       "      <td>44</td>\n",
       "      <td>Ramicane</td>\n",
       "      <td>43.047543</td>\n",
       "    </tr>\n",
       "    <tr>\n",
       "      <td>46</td>\n",
       "      <td>Ramicane</td>\n",
       "      <td>43.419381</td>\n",
       "    </tr>\n",
       "    <tr>\n",
       "      <td>47</td>\n",
       "      <td>Ramicane</td>\n",
       "      <td>43.166373</td>\n",
       "    </tr>\n",
       "    <tr>\n",
       "      <td>48</td>\n",
       "      <td>Ramicane</td>\n",
       "      <td>44.183451</td>\n",
       "    </tr>\n",
       "  </tbody>\n",
       "</table>\n",
       "</div>"
      ],
      "text/plain": [
       "   Drug Regimen  finalTumorVolume\n",
       "0      Ramicane         22.050126\n",
       "4      Ramicane         29.128472\n",
       "5      Ramicane         30.276232\n",
       "7      Ramicane         30.564625\n",
       "8      Ramicane         30.638696\n",
       "9      Ramicane         31.560470\n",
       "11     Ramicane         31.095335\n",
       "15     Ramicane         33.397653\n",
       "17     Ramicane         32.978522\n",
       "18     Ramicane         33.562402\n",
       "19     Ramicane         36.134852\n",
       "21     Ramicane         38.810366\n",
       "23     Ramicane         37.225650\n",
       "25     Ramicane         36.374510\n",
       "26     Ramicane         36.561652\n",
       "27     Ramicane         37.311236\n",
       "29     Ramicane         38.342008\n",
       "33     Ramicane         38.407618\n",
       "41     Ramicane         40.659006\n",
       "42     Ramicane         40.667713\n",
       "43     Ramicane         45.220869\n",
       "44     Ramicane         43.047543\n",
       "46     Ramicane         43.419381\n",
       "47     Ramicane         43.166373\n",
       "48     Ramicane         44.183451"
      ]
     },
     "execution_count": 163,
     "metadata": {},
     "output_type": "execute_result"
    }
   ],
   "source": [
    "dr_df1 = finalTumorVolumes.loc[finalTumorVolumes[\"Drug Regimen\"] == \"Ramicane\"]\n",
    "\n",
    "dr_df1\n",
    "\n"
   ]
  },
  {
   "cell_type": "code",
   "execution_count": 168,
   "metadata": {},
   "outputs": [
    {
     "ename": "NameError",
     "evalue": "name 'Capomulin_finalTumorVolumes' is not defined",
     "output_type": "error",
     "traceback": [
      "\u001b[0;31m---------------------------------------------------------------------------\u001b[0m",
      "\u001b[0;31mNameError\u001b[0m                                 Traceback (most recent call last)",
      "\u001b[0;32m<ipython-input-168-bf2844b18041>\u001b[0m in \u001b[0;36m<module>\u001b[0;34m\u001b[0m\n\u001b[1;32m     19\u001b[0m \u001b[0;31m# Capomulin, Ramicane, Infubinol, and Ceftamin\u001b[0m\u001b[0;34m\u001b[0m\u001b[0;34m\u001b[0m\u001b[0;34m\u001b[0m\u001b[0m\n\u001b[1;32m     20\u001b[0m \u001b[0;34m\u001b[0m\u001b[0m\n\u001b[0;32m---> 21\u001b[0;31m box_plot_data = [Capomulin_finalTumorVolumes[\"finalTumorVolume\"],\n\u001b[0m\u001b[1;32m     22\u001b[0m                  \u001b[0mCeftamin_finalTumorVolumes\u001b[0m\u001b[0;34m[\u001b[0m\u001b[0;34m\"finalTumorVolume\"\u001b[0m\u001b[0;34m]\u001b[0m\u001b[0;34m,\u001b[0m\u001b[0;34m\u001b[0m\u001b[0;34m\u001b[0m\u001b[0m\n\u001b[1;32m     23\u001b[0m                  \u001b[0mInfubinol_finalTumorVolumes\u001b[0m\u001b[0;34m[\u001b[0m\u001b[0;34m\"finalTumorVolume\"\u001b[0m\u001b[0;34m]\u001b[0m\u001b[0;34m,\u001b[0m\u001b[0;34m\u001b[0m\u001b[0;34m\u001b[0m\u001b[0m\n",
      "\u001b[0;31mNameError\u001b[0m: name 'Capomulin_finalTumorVolumes' is not defined"
     ]
    }
   ],
   "source": [
    "\n",
    "flierprops = dict(marker='s',\n",
    "                  markerfacecolor='r',\n",
    "                  markersize=14,\n",
    "                  linestyle='none',\n",
    "                  markeredgecolor='g')\n",
    "\n",
    "# finalTumorVolumes.boxplot(column=[\"finalTumorVolume\"],\n",
    "#                           by=\"Drug Regimen\",\n",
    "#                           figsize=(8,5),\n",
    "#                           fontsize=12,\n",
    "# #                           flierprops=flierprops\n",
    "#                          )\n",
    "\n",
    "\n",
    "\n",
    "# plt.boxplot(finalTumorVolumes[\"finalTumorVolume\"],\n",
    "#            flierprops=flierprops)\n",
    "\n",
    "# Capomulin, Ramicane, Infubinol, and Ceftamin\n",
    "\n",
    "box_plot_data = [Capomulin_finalTumorVolumes[\"finalTumorVolume\"],\n",
    "                 Ceftamin_finalTumorVolumes[\"finalTumorVolume\"],\n",
    "                 Infubinol_finalTumorVolumes[\"finalTumorVolume\"],\n",
    "                 Ramicane_finalTumorVolumes[\"finalTumorVolume\"],\n",
    "                ]\n",
    "\n",
    "\n",
    "\n",
    "fig, ax = plt.subplots()\n",
    "ax.set_title(\"xxTITLExx\")\n",
    "ax.set_xlabel(\"Drug Regimen\")\n",
    "ax.set_ylabel(\"Final Tumor Volume (mm3)\")\n",
    "ax.boxplot(box_plot_data)\n",
    "plt.xticks([1, 2, 3, 4],\n",
    "           [\"Capomulin\", \"Ceftamin\", \"Infubinol\", \"Ramicane\"])\n",
    "\n",
    "# ax2.set_xlabel(\"Ceftamin\")\n",
    "# ax2.boxplot(Ceftamin_finalTumorVolumes[\"finalTumorVolume\"])\n",
    "\n",
    "\n",
    "plt.show\n",
    "\n",
    "# bplot_data\n",
    "\n"
   ]
  },
  {
   "cell_type": "code",
   "execution_count": null,
   "metadata": {},
   "outputs": [],
   "source": []
  }
 ],
 "metadata": {
  "kernelspec": {
   "display_name": "Python 3",
   "language": "python",
   "name": "python3"
  },
  "language_info": {
   "codemirror_mode": {
    "name": "ipython",
    "version": 3
   },
   "file_extension": ".py",
   "mimetype": "text/x-python",
   "name": "python",
   "nbconvert_exporter": "python",
   "pygments_lexer": "ipython3",
   "version": "3.7.4"
  }
 },
 "nbformat": 4,
 "nbformat_minor": 2
}
