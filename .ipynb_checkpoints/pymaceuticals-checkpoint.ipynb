{
 "cells": [
  {
   "cell_type": "markdown",
   "metadata": {},
   "source": [
    "## Observations and Insights"
   ]
  },
  {
   "cell_type": "markdown",
   "metadata": {},
   "source": [
    "Across all generated figures and tables, here are (at least three) observations or inferences that I've made from the data:\n",
    "\n",
    "* 1) The four most promising drug treament regimins given are not necessarily those with the most data points to analyze. \n",
    "\n",
    "* 2) As identified as the most promising drug treatment regimins, Capomulin and Ramicane appear that they may be comparatively more effective since the average tumor volume are notably smaller.  They have more data points compared to the others, but its impressive that they hover around 40, or just north of, where all of the others are above 50.  Also, the standard deviation for Capomulin and Ramicane perhaps demonstrate the consistency of treatment.\n",
    "\n",
    "* 3) Looking at the line plots for the Capomulin drug treatment regimin, in nearly ever mouse plotted, the tumor volume decreases over time - further evidence of it's potential effectiveness.\n",
    "\n",
    "* 4) The average tumor volume appears to be correlated with the weight of the mouse.  I think it is important to note that only one weight of the mouse is used (unsure if it is the beginning, end, average, or otherwise) vs the average tumor volume (which changes over time).  It might be interesting to know - and an improvement in future studies to record the mouse's weight at each time point along the way.  \n",
    "\n",
    "\n"
   ]
  },
  {
   "cell_type": "markdown",
   "metadata": {},
   "source": [
    "## Dependencies"
   ]
  },
  {
   "cell_type": "code",
   "execution_count": 1,
   "metadata": {},
   "outputs": [],
   "source": [
    "# import dependencies\n",
    "import matplotlib.pyplot as plt\n",
    "import pandas as pd\n",
    "import numpy as np\n",
    "import random\n",
    "import scipy.stats as st\n",
    "from scipy.stats import linregress"
   ]
  },
  {
   "cell_type": "markdown",
   "metadata": {},
   "source": [
    "## Set the data filepaths & read them in..."
   ]
  },
  {
   "cell_type": "code",
   "execution_count": 2,
   "metadata": {},
   "outputs": [],
   "source": [
    "# csv data files\n",
    "mouse_metadata = \"../../SMU_DS/02-Homework/05-Matplotlib/Instructions/Pymaceuticals/data/Mouse_metadata.csv\"\n",
    "study_results = \"../../SMU_DS/02-Homework/05-Matplotlib/Instructions/Pymaceuticals/data/Study_results.csv\""
   ]
  },
  {
   "cell_type": "code",
   "execution_count": 3,
   "metadata": {},
   "outputs": [],
   "source": [
    "# read csv data files\n",
    "mouse_metadata = pd.read_csv(mouse_metadata)\n",
    "study_results = pd.read_csv(study_results)"
   ]
  },
  {
   "cell_type": "code",
   "execution_count": 4,
   "metadata": {},
   "outputs": [],
   "source": [
    "# see what the mouse_metadata data looks like\n",
    "# mouse_metadata.head()"
   ]
  },
  {
   "cell_type": "code",
   "execution_count": 5,
   "metadata": {},
   "outputs": [],
   "source": [
    "# see what the study_results data looks like\n",
    "# study_results.head()"
   ]
  },
  {
   "cell_type": "markdown",
   "metadata": {},
   "source": [
    "## Combine the dataset into one dataset"
   ]
  },
  {
   "cell_type": "code",
   "execution_count": 6,
   "metadata": {},
   "outputs": [],
   "source": [
    "# combine data into one dataset\n",
    "combined_study_data = pd.merge(mouse_metadata, study_results,\n",
    "#                                how=\"outer\",\n",
    "                               on=\"Mouse ID\")\n",
    "# combined_study_data"
   ]
  },
  {
   "cell_type": "code",
   "execution_count": 7,
   "metadata": {},
   "outputs": [],
   "source": [
    "# create dataset to be used in script below\n",
    "df = combined_study_data\n",
    "# df.head()"
   ]
  },
  {
   "cell_type": "markdown",
   "metadata": {},
   "source": [
    "## Summary Statistics"
   ]
  },
  {
   "cell_type": "code",
   "execution_count": 8,
   "metadata": {},
   "outputs": [
    {
     "data": {
      "text/html": [
       "<div>\n",
       "<style scoped>\n",
       "    .dataframe tbody tr th:only-of-type {\n",
       "        vertical-align: middle;\n",
       "    }\n",
       "\n",
       "    .dataframe tbody tr th {\n",
       "        vertical-align: top;\n",
       "    }\n",
       "\n",
       "    .dataframe thead th {\n",
       "        text-align: right;\n",
       "    }\n",
       "</style>\n",
       "<table border=\"1\" class=\"dataframe\">\n",
       "  <thead>\n",
       "    <tr style=\"text-align: right;\">\n",
       "      <th></th>\n",
       "      <th>Drug Regimen</th>\n",
       "      <th>datapoints_count</th>\n",
       "      <th>tumorVol_mean</th>\n",
       "      <th>tumorVol_median</th>\n",
       "      <th>tumorVol_variance</th>\n",
       "      <th>tumorVol_std</th>\n",
       "      <th>tumorVol_sem</th>\n",
       "    </tr>\n",
       "  </thead>\n",
       "  <tbody>\n",
       "    <tr>\n",
       "      <td>0</td>\n",
       "      <td>Capomulin</td>\n",
       "      <td>230</td>\n",
       "      <td>40.675741</td>\n",
       "      <td>41.557809</td>\n",
       "      <td>24.947764</td>\n",
       "      <td>4.994774</td>\n",
       "      <td>0.329346</td>\n",
       "    </tr>\n",
       "    <tr>\n",
       "      <td>1</td>\n",
       "      <td>Ceftamin</td>\n",
       "      <td>178</td>\n",
       "      <td>52.591172</td>\n",
       "      <td>51.776157</td>\n",
       "      <td>39.290177</td>\n",
       "      <td>6.268188</td>\n",
       "      <td>0.469821</td>\n",
       "    </tr>\n",
       "    <tr>\n",
       "      <td>2</td>\n",
       "      <td>Infubinol</td>\n",
       "      <td>178</td>\n",
       "      <td>52.884795</td>\n",
       "      <td>51.820584</td>\n",
       "      <td>43.128684</td>\n",
       "      <td>6.567243</td>\n",
       "      <td>0.492236</td>\n",
       "    </tr>\n",
       "    <tr>\n",
       "      <td>3</td>\n",
       "      <td>Ketapril</td>\n",
       "      <td>188</td>\n",
       "      <td>55.235638</td>\n",
       "      <td>53.698743</td>\n",
       "      <td>68.553577</td>\n",
       "      <td>8.279709</td>\n",
       "      <td>0.603860</td>\n",
       "    </tr>\n",
       "    <tr>\n",
       "      <td>4</td>\n",
       "      <td>Naftisol</td>\n",
       "      <td>186</td>\n",
       "      <td>54.331565</td>\n",
       "      <td>52.509285</td>\n",
       "      <td>66.173479</td>\n",
       "      <td>8.134708</td>\n",
       "      <td>0.596466</td>\n",
       "    </tr>\n",
       "    <tr>\n",
       "      <td>5</td>\n",
       "      <td>Placebo</td>\n",
       "      <td>181</td>\n",
       "      <td>54.033581</td>\n",
       "      <td>52.288934</td>\n",
       "      <td>61.168083</td>\n",
       "      <td>7.821003</td>\n",
       "      <td>0.581331</td>\n",
       "    </tr>\n",
       "    <tr>\n",
       "      <td>6</td>\n",
       "      <td>Propriva</td>\n",
       "      <td>161</td>\n",
       "      <td>52.322552</td>\n",
       "      <td>50.854632</td>\n",
       "      <td>42.351070</td>\n",
       "      <td>6.507770</td>\n",
       "      <td>0.512884</td>\n",
       "    </tr>\n",
       "    <tr>\n",
       "      <td>7</td>\n",
       "      <td>Ramicane</td>\n",
       "      <td>228</td>\n",
       "      <td>40.216745</td>\n",
       "      <td>40.673236</td>\n",
       "      <td>23.486704</td>\n",
       "      <td>4.846308</td>\n",
       "      <td>0.320955</td>\n",
       "    </tr>\n",
       "    <tr>\n",
       "      <td>8</td>\n",
       "      <td>Stelasyn</td>\n",
       "      <td>181</td>\n",
       "      <td>54.233149</td>\n",
       "      <td>52.431737</td>\n",
       "      <td>59.450562</td>\n",
       "      <td>7.710419</td>\n",
       "      <td>0.573111</td>\n",
       "    </tr>\n",
       "    <tr>\n",
       "      <td>9</td>\n",
       "      <td>Zoniferol</td>\n",
       "      <td>182</td>\n",
       "      <td>53.236507</td>\n",
       "      <td>51.818479</td>\n",
       "      <td>48.533355</td>\n",
       "      <td>6.966589</td>\n",
       "      <td>0.516398</td>\n",
       "    </tr>\n",
       "  </tbody>\n",
       "</table>\n",
       "</div>"
      ],
      "text/plain": [
       "  Drug Regimen  datapoints_count  tumorVol_mean  tumorVol_median  \\\n",
       "0    Capomulin               230      40.675741        41.557809   \n",
       "1     Ceftamin               178      52.591172        51.776157   \n",
       "2    Infubinol               178      52.884795        51.820584   \n",
       "3     Ketapril               188      55.235638        53.698743   \n",
       "4     Naftisol               186      54.331565        52.509285   \n",
       "5      Placebo               181      54.033581        52.288934   \n",
       "6     Propriva               161      52.322552        50.854632   \n",
       "7     Ramicane               228      40.216745        40.673236   \n",
       "8     Stelasyn               181      54.233149        52.431737   \n",
       "9    Zoniferol               182      53.236507        51.818479   \n",
       "\n",
       "   tumorVol_variance  tumorVol_std  tumorVol_sem  \n",
       "0          24.947764      4.994774      0.329346  \n",
       "1          39.290177      6.268188      0.469821  \n",
       "2          43.128684      6.567243      0.492236  \n",
       "3          68.553577      8.279709      0.603860  \n",
       "4          66.173479      8.134708      0.596466  \n",
       "5          61.168083      7.821003      0.581331  \n",
       "6          42.351070      6.507770      0.512884  \n",
       "7          23.486704      4.846308      0.320955  \n",
       "8          59.450562      7.710419      0.573111  \n",
       "9          48.533355      6.966589      0.516398  "
      ]
     },
     "execution_count": 8,
     "metadata": {},
     "output_type": "execute_result"
    }
   ],
   "source": [
    "# Generate a summary statistics table of mean, median, variance, standard deviation and SEM of the tumor volume for each regimen\n",
    "regimen_grouped = df.groupby(\"Drug Regimen\").agg(\n",
    "#     tumorVol_min = pd.NamedAgg(column=\"Tumor Volume (mm3)\", aggfunc = \"min\"),\n",
    "#     tumorVol_max = pd.NamedAgg(column=\"Tumor Volume (mm3)\", aggfunc = \"max\"),\n",
    "    datapoints_count = pd.NamedAgg(column=\"Tumor Volume (mm3)\", aggfunc = \"count\"),\n",
    "    tumorVol_mean = pd.NamedAgg(column=\"Tumor Volume (mm3)\", aggfunc = \"mean\"),\n",
    "    tumorVol_median = pd.NamedAgg(column=\"Tumor Volume (mm3)\", aggfunc = \"median\"),\n",
    "    tumorVol_variance = pd.NamedAgg(column=\"Tumor Volume (mm3)\", aggfunc = \"var\"),\n",
    "    tumorVol_std = pd.NamedAgg(column=\"Tumor Volume (mm3)\", aggfunc = \"std\"),\n",
    "    tumorVol_sem = pd.NamedAgg(column=\"Tumor Volume (mm3)\", aggfunc = \"sem\")\n",
    ")\n",
    "regimen_grouped = regimen_grouped.reset_index()\n",
    "regimen_grouped\n"
   ]
  },
  {
   "cell_type": "markdown",
   "metadata": {},
   "source": [
    "## Bar Plots: Distribution of data point by Drug Regimen"
   ]
  },
  {
   "cell_type": "markdown",
   "metadata": {},
   "source": [
    "Generate a bar plot showing number of data points for each treatment regimen using pandas\n",
    "\n",
    "NOTE: this is using Pandas DataFrame.plot()"
   ]
  },
  {
   "cell_type": "code",
   "execution_count": 9,
   "metadata": {},
   "outputs": [
    {
     "data": {
      "text/plain": [
       "<matplotlib.axes._subplots.AxesSubplot at 0x10f5cb690>"
      ]
     },
     "execution_count": 9,
     "metadata": {},
     "output_type": "execute_result"
    },
    {
     "data": {
      "image/png": "[encoded data removed]",
      "text/plain": [
       "<Figure size 432x288 with 1 Axes>"
      ]
     },
     "metadata": {
      "needs_background": "light"
     },
     "output_type": "display_data"
    }
   ],
   "source": [
    "# create dataframe with data point counts by \"Drug Regimen\"\n",
    "datapoint_count_data = pd.DataFrame(df[\"Drug Regimen\"].value_counts())\n",
    "\n",
    "# reset index and rename columns\n",
    "datapoint_count_data = datapoint_count_data.reset_index()\n",
    "datapoint_count_data = datapoint_count_data.rename(columns={\"Drug Regimen\": \"Count\",\n",
    "                                                           \"index\": \"Drug Regimen\"})\n",
    "\n",
    "# Resort data alphabetically by \"Drug Regiman\" and set index back to \"Drug Regimen\"\n",
    "datapoint_count_data = datapoint_count_data.sort_values(\"Drug Regimen\", ascending=True)\n",
    "datapoint_count_data = datapoint_count_data.set_index(\"Drug Regimen\")\n",
    "# datapoint_count_data\n",
    "\n",
    "# Configure plot and ticks\n",
    "datapoint_count_data.plot(kind=\"bar\",\n",
    "                          facecolor=\"gray\",\n",
    "                          rot=90,\n",
    "                          alpha=.75,\n",
    "                          legend=False,\n",
    "                          title=\"Total datapoints per Drug Regimen\",\n",
    "                          width=0.75\n",
    "                         )\n"
   ]
  },
  {
   "cell_type": "markdown",
   "metadata": {},
   "source": [
    "Generate a bar plot showing number of data points for each treatment regimen using pyplot\n",
    "\n",
    "NOTE: this is using matplotlib.pyplot"
   ]
  },
  {
   "cell_type": "code",
   "execution_count": 10,
   "metadata": {
    "scrolled": true
   },
   "outputs": [
    {
     "data": {
      "text/plain": [
       "Text(0.5, 0, 'Drug Regimen')"
      ]
     },
     "execution_count": 10,
     "metadata": {},
     "output_type": "execute_result"
    },
    {
     "data": {
      "image/png": "[encoded data removed]",
      "text/plain": [
       "<Figure size 432x288 with 1 Axes>"
      ]
     },
     "metadata": {
      "needs_background": "light"
     },
     "output_type": "display_data"
    }
   ],
   "source": [
    "# Generate a bar plot showing number of data points for each treatment regimen using pyplot\n",
    "# Set x axis and tick locations\n",
    "x_axis = np.arange(len(regimen_grouped))\n",
    "tick_locations = [value for value in x_axis]\n",
    "\n",
    "plt.bar(x_axis, regimen_grouped[\"datapoints_count\"], color=\"gray\", alpha=0.75)\n",
    "plt.xticks(tick_locations, regimen_grouped[\"Drug Regimen\"], rotation=\"vertical\")\n",
    "\n",
    "plt.title(\"Total datapoints per Drug Regimen\")\n",
    "plt.xlabel('Drug Regimen')\n"
   ]
  },
  {
   "cell_type": "markdown",
   "metadata": {},
   "source": [
    "## Pie Plots - Distribution of Female vs. Male Mice"
   ]
  },
  {
   "cell_type": "markdown",
   "metadata": {},
   "source": [
    "Generate a pie plot showing the distribution of female versus male mice using pandas\n",
    "\n",
    "NOTE: this is using Pandas DataFrame.plot()"
   ]
  },
  {
   "cell_type": "code",
   "execution_count": 11,
   "metadata": {},
   "outputs": [
    {
     "data": {
      "text/plain": [
       "<matplotlib.axes._subplots.AxesSubplot at 0x1a234c4810>"
      ]
     },
     "execution_count": 11,
     "metadata": {},
     "output_type": "execute_result"
    },
    {
     "data": {
      "image/png": "[encoded data removed]",
      "text/plain": [
       "<Figure size 432x288 with 1 Axes>"
      ]
     },
     "metadata": {},
     "output_type": "display_data"
    }
   ],
   "source": [
    "# create dataframe with number of female vs male mice, broken down by \"Sex\"\n",
    "gender_count = pd.DataFrame(mouse_metadata[\"Sex\"].value_counts())\n",
    "\n",
    "# Configure plot\n",
    "gender_count.plot(kind=\"pie\",\n",
    "                  y=\"Sex\",\n",
    "                  autopct='%1.1f%%',\n",
    "                  startangle=90,\n",
    "                  shadow=False,\n",
    "                  label=\"\",\n",
    "                  legend=False,\n",
    "                  fontsize=14,\n",
    "                  title=\"Distribution of Female vs. Male Mice\",               \n",
    "                 )\n",
    "# gender_count\n"
   ]
  },
  {
   "cell_type": "markdown",
   "metadata": {},
   "source": [
    "Generate a pie plot showing the distribution of female versus male mice using pyplot\n",
    "\n",
    "NOTE: this is using matplotlib.pyplot"
   ]
  },
  {
   "cell_type": "code",
   "execution_count": 12,
   "metadata": {},
   "outputs": [
    {
     "data": {
      "image/png": "[encoded data removed]",
      "text/plain": [
       "<Figure size 432x288 with 1 Axes>"
      ]
     },
     "metadata": {},
     "output_type": "display_data"
    }
   ],
   "source": [
    "# using same dataframe, reset index and rename columns\n",
    "gender_count = gender_count.reset_index()\n",
    "gender_count = gender_count.rename(columns={\"Sex\": \"Count\",\n",
    "                                            \"index\": \"Sex\"})\n",
    "# gender_count\n",
    "\n",
    "# create lists to house unique values of \"Sex\" and the count per \"sex\" in same index position\n",
    "gender_list = gender_count[\"Sex\"].tolist()\n",
    "# gender_list\n",
    "gender_count_list = gender_count[\"Count\"].tolist()\n",
    "# gender_count_list\n",
    "# explode=(0,0)\n",
    "\n",
    "# Configure Plot\n",
    "plt.pie(gender_count_list,\n",
    "        labels=gender_list,\n",
    "#         explode=explode,\n",
    "        autopct='%1.1f%%',\n",
    "        startangle=90,\n",
    "        shadow=False,\n",
    "        textprops={'fontsize': 14}\n",
    "       )\n",
    "plt.title('Distribution of Female vs. Male Mice')\n",
    "plt.show()\n"
   ]
  },
  {
   "cell_type": "markdown",
   "metadata": {},
   "source": [
    "## Quartiles, outliers and boxplots"
   ]
  },
  {
   "cell_type": "markdown",
   "metadata": {},
   "source": [
    "Calculate the final tumor volume of each mouse across four of the most promising treatment regimens: Capomulin, Ramicane, Infubinol, and Ceftamin.\n",
    "\n",
    "\n",
    "Calculate the quartiles and IQR and quantitatively determine if there are any potential outliers across all four treatment regimens."
   ]
  },
  {
   "cell_type": "code",
   "execution_count": 13,
   "metadata": {},
   "outputs": [
    {
     "data": {
      "text/html": [
       "<div>\n",
       "<style scoped>\n",
       "    .dataframe tbody tr th:only-of-type {\n",
       "        vertical-align: middle;\n",
       "    }\n",
       "\n",
       "    .dataframe tbody tr th {\n",
       "        vertical-align: top;\n",
       "    }\n",
       "\n",
       "    .dataframe thead th {\n",
       "        text-align: right;\n",
       "    }\n",
       "</style>\n",
       "<table border=\"1\" class=\"dataframe\">\n",
       "  <thead>\n",
       "    <tr style=\"text-align: right;\">\n",
       "      <th></th>\n",
       "      <th>Drug Regimen</th>\n",
       "      <th>finalTumorVolume</th>\n",
       "    </tr>\n",
       "  </thead>\n",
       "  <tbody>\n",
       "    <tr>\n",
       "      <td>0</td>\n",
       "      <td>Ramicane</td>\n",
       "      <td>22.050126</td>\n",
       "    </tr>\n",
       "    <tr>\n",
       "      <td>1</td>\n",
       "      <td>Capomulin</td>\n",
       "      <td>23.343598</td>\n",
       "    </tr>\n",
       "    <tr>\n",
       "      <td>2</td>\n",
       "      <td>Capomulin</td>\n",
       "      <td>28.484033</td>\n",
       "    </tr>\n",
       "    <tr>\n",
       "      <td>3</td>\n",
       "      <td>Capomulin</td>\n",
       "      <td>28.430964</td>\n",
       "    </tr>\n",
       "    <tr>\n",
       "      <td>4</td>\n",
       "      <td>Ramicane</td>\n",
       "      <td>29.128472</td>\n",
       "    </tr>\n",
       "    <tr>\n",
       "      <td>...</td>\n",
       "      <td>...</td>\n",
       "      <td>...</td>\n",
       "    </tr>\n",
       "    <tr>\n",
       "      <td>95</td>\n",
       "      <td>Ceftamin</td>\n",
       "      <td>61.386660</td>\n",
       "    </tr>\n",
       "    <tr>\n",
       "      <td>96</td>\n",
       "      <td>Infubinol</td>\n",
       "      <td>67.685569</td>\n",
       "    </tr>\n",
       "    <tr>\n",
       "      <td>97</td>\n",
       "      <td>Ceftamin</td>\n",
       "      <td>68.594745</td>\n",
       "    </tr>\n",
       "    <tr>\n",
       "      <td>98</td>\n",
       "      <td>Ceftamin</td>\n",
       "      <td>64.729837</td>\n",
       "    </tr>\n",
       "    <tr>\n",
       "      <td>99</td>\n",
       "      <td>Infubinol</td>\n",
       "      <td>62.754451</td>\n",
       "    </tr>\n",
       "  </tbody>\n",
       "</table>\n",
       "<p>100 rows × 2 columns</p>\n",
       "</div>"
      ],
      "text/plain": [
       "   Drug Regimen  finalTumorVolume\n",
       "0      Ramicane         22.050126\n",
       "1     Capomulin         23.343598\n",
       "2     Capomulin         28.484033\n",
       "3     Capomulin         28.430964\n",
       "4      Ramicane         29.128472\n",
       "..          ...               ...\n",
       "95     Ceftamin         61.386660\n",
       "96    Infubinol         67.685569\n",
       "97     Ceftamin         68.594745\n",
       "98     Ceftamin         64.729837\n",
       "99    Infubinol         62.754451\n",
       "\n",
       "[100 rows x 2 columns]"
      ]
     },
     "execution_count": 13,
     "metadata": {},
     "output_type": "execute_result"
    }
   ],
   "source": [
    "# Calculate the final tumor volume of each mouse across four of the most promising treatment regimens:\n",
    "#   Capomulin, Ramicane, Infubinol, and Ceftamin.\n",
    "\n",
    "# create a new data frame\n",
    "finalTumorVolumes = df\n",
    "\n",
    "# # *ANOTHER OPTION FOR SORTING; Sort \"Timepoint\" in descending order by \"Mouse ID\"\n",
    "# finalTumorVolumes = finalTumorVolumes.sort_values([\"Mouse ID\", \"Timepoint\"], ascending=[True, False])\n",
    "# finalTumorVolumes = finalTumorVolumes.set_index([\"Mouse ID\", \"Timepoint\"])\n",
    "# finalTumorVolumes = finalTumorVolumes.reset_index()\n",
    "# finalTumorVolumes = finalTumorVolumes.drop_duplicates(\"Mouse ID\")\n",
    "\n",
    "# add column: \"finalTimepoint\" to the data frame, set equal to the max \"Timeframe\" for each \"Mouse ID\"\n",
    "finalTumorVolumes[\"finalTimepoint\"] = finalTumorVolumes.groupby([\"Mouse ID\"])[\"Timepoint\"].transform(max)\n",
    "\n",
    "# add column: \"finalTimepointFlag\" to the data frame, set to 1 when it is the last \"Timepoint\" for each \"Mouse ID\"\n",
    "finalTumorVolumes[\"finalTimepointFlag\"] = np.where(finalTumorVolumes[\"Timepoint\"] == finalTumorVolumes[\"finalTimepoint\"], 1, 0)\n",
    "\n",
    "# filter to only the final \"Timepoint\" for each \"Mouse ID\"\n",
    "# finalTumorVolumes = finalTumorVolumes.loc[finalTumorVolumes[\"Timepoint\"] == finalTumorVolumes[\"finalTimepoint\"]]\n",
    "finalTumorVolumes = finalTumorVolumes.loc[finalTumorVolumes[\"finalTimepointFlag\"] == 1]\n",
    "\n",
    "# filter to only include Capomulin, Ramicane, Infubinol and Ceftamin drug regimens\n",
    "finalTumorVolumes = finalTumorVolumes.loc[(finalTumorVolumes[\"Drug Regimen\"] == \"Capomulin\") |\n",
    "                                          (finalTumorVolumes[\"Drug Regimen\"] == \"Ramicane\") |\n",
    "                                          (finalTumorVolumes[\"Drug Regimen\"] == \"Infubinol\") |\n",
    "                                          (finalTumorVolumes[\"Drug Regimen\"] == \"Ceftamin\")\n",
    "                                         ]\n",
    "\n",
    "# reset index\n",
    "finalTumorVolumes = finalTumorVolumes.reset_index()\n",
    "\n",
    "# delete/drop old \"index\" column moved over when index was reset\n",
    "finalTumorVolumes.drop(\"index\", axis=1, inplace=True)\n",
    "\n",
    "# rename \"Tumor Volume (mm3)\": \"finalTumorVolume\"\n",
    "finalTumorVolumes = finalTumorVolumes.rename(columns={\"Tumor Volume (mm3)\": \"finalTumorVolume\"})\n",
    "\n",
    "# grab only columns needed\n",
    "finalTumorVolumes = finalTumorVolumes[[\"Drug Regimen\",\"finalTumorVolume\"]]\n",
    "\n",
    "# set \"Drug Regimen\" as index\n",
    "# finalTumorVolumes = finalTumorVolumes.set_index(\"Drug Regimen\")\n",
    "finalTumorVolumes\n"
   ]
  },
  {
   "cell_type": "code",
   "execution_count": 14,
   "metadata": {},
   "outputs": [],
   "source": [
    "# create dataset for each drug regiment (filter finalTumorVolumes to each drug regimen)\n",
    "# Capomulin\n",
    "Capomulin_finalTumorVolumes = finalTumorVolumes.loc[(finalTumorVolumes[\"Drug Regimen\"] == \"Capomulin\")]\n",
    "\n",
    "# Ceftamin\n",
    "Ceftamin_finalTumorVolumes = finalTumorVolumes.loc[(finalTumorVolumes[\"Drug Regimen\"] == \"Ceftamin\")]\n",
    "\n",
    "# Infubinol\n",
    "Infubinol_finalTumorVolumes = finalTumorVolumes.loc[(finalTumorVolumes[\"Drug Regimen\"] == \"Infubinol\")]\n",
    "\n",
    "# Ramicane\n",
    "Ramicane_finalTumorVolumes = finalTumorVolumes.loc[(finalTumorVolumes[\"Drug Regimen\"] == \"Ramicane\")]\n"
   ]
  },
  {
   "cell_type": "code",
   "execution_count": 15,
   "metadata": {
    "scrolled": true
   },
   "outputs": [
    {
     "name": "stdout",
     "output_type": "stream",
     "text": [
      "The lower quartile is: 37.187743802499995\n",
      "The upper quartile is: 59.930261755000004\n",
      "The interquartile range is: 22.74251795250001\n",
      "The the median is: 45.0 \n",
      "Values below 3.0739668737499812 could be outliers.\n",
      "Values above 94.04403868375002 could be outliers.\n",
      "There are 0 potential outlier(s), based on the IQR and quantitative determination.\n"
     ]
    },
    {
     "data": {
      "text/html": [
       "<div>\n",
       "<style scoped>\n",
       "    .dataframe tbody tr th:only-of-type {\n",
       "        vertical-align: middle;\n",
       "    }\n",
       "\n",
       "    .dataframe tbody tr th {\n",
       "        vertical-align: top;\n",
       "    }\n",
       "\n",
       "    .dataframe thead th {\n",
       "        text-align: right;\n",
       "    }\n",
       "</style>\n",
       "<table border=\"1\" class=\"dataframe\">\n",
       "  <thead>\n",
       "    <tr style=\"text-align: right;\">\n",
       "      <th></th>\n",
       "      <th>Drug Regimen</th>\n",
       "      <th>finalTumorVolume</th>\n",
       "    </tr>\n",
       "  </thead>\n",
       "  <tbody>\n",
       "  </tbody>\n",
       "</table>\n",
       "</div>"
      ],
      "text/plain": [
       "Empty DataFrame\n",
       "Columns: [Drug Regimen, finalTumorVolume]\n",
       "Index: []"
      ]
     },
     "execution_count": 15,
     "metadata": {},
     "output_type": "execute_result"
    }
   ],
   "source": [
    "# Calculate the IQR and quantitatively determine if there are any potential outliers...\n",
    "# ...including ALL four regimens together\n",
    "\n",
    "# Determine if there are any potential outliers population\n",
    "finalTumorVolumes_quartiles = finalTumorVolumes['finalTumorVolume'].quantile([0.25,0.5,0.75])\n",
    "finalTumorVolumes_lowerQ = finalTumorVolumes_quartiles[0.25]\n",
    "finalTumorVolumes_upperQ = finalTumorVolumes_quartiles[0.75]\n",
    "finalTumorVolumes_iqr = finalTumorVolumes_upperQ - finalTumorVolumes_lowerQ\n",
    "\n",
    "print(f\"The lower quartile is: {finalTumorVolumes_lowerQ}\")\n",
    "print(f\"The upper quartile is: {finalTumorVolumes_upperQ}\")\n",
    "print(f\"The interquartile range is: {finalTumorVolumes_iqr}\")\n",
    "print(f\"The the median is: {finalTumorVolumes_quartiles[0.5]} \")\n",
    "\n",
    "finalTumorVolumes_lower_bound = finalTumorVolumes_lowerQ - (1.5 * finalTumorVolumes_iqr)\n",
    "finalTumorVolumes_upper_bound = finalTumorVolumes_upperQ + (1.5 * finalTumorVolumes_iqr)\n",
    "print(f\"Values below {finalTumorVolumes_lower_bound} could be outliers.\")\n",
    "print(f\"Values above {finalTumorVolumes_upper_bound} could be outliers.\")\n",
    "\n",
    "outlier_finalTumorVolume = finalTumorVolumes.loc[(finalTumorVolumes['finalTumorVolume'] < finalTumorVolumes_lower_bound) |\n",
    "                                                 (finalTumorVolumes['finalTumorVolume'] > finalTumorVolumes_upper_bound)]\n",
    "print(f\"There are {len(outlier_finalTumorVolume)} potential outlier(s), based on the IQR and quantitative determination.\")\n",
    "\n",
    "outlier_finalTumorVolume\n"
   ]
  },
  {
   "cell_type": "code",
   "execution_count": 16,
   "metadata": {},
   "outputs": [
    {
     "data": {
      "image/png": "[encoded data removed]",
      "text/plain": [
       "<Figure size 432x288 with 1 Axes>"
      ]
     },
     "metadata": {
      "needs_background": "light"
     },
     "output_type": "display_data"
    }
   ],
   "source": [
    "xyz = finalTumorVolumes[\"finalTumorVolume\"].tolist()\n",
    "\n",
    "fig1, ax1 = plt.subplots()\n",
    "ax1.set_title(\"xxxTITLExxx\")\n",
    "ax1.set_ylabel(\"Final Tumor Volume (mm3)\")\n",
    "ax1.boxplot(xyz)\n",
    "plt.show()\n"
   ]
  },
  {
   "cell_type": "code",
   "execution_count": 17,
   "metadata": {},
   "outputs": [
    {
     "name": "stdout",
     "output_type": "stream",
     "text": [
      "The lower quartile for Capomulin is: 32.37735684\n",
      "The upper quartile for Capomulin is: 40.1592203\n",
      "The interquartile range for Capomulin is: 7.781863460000004\n",
      "The the median for Capomulin is: 38.125164399999996 \n",
      "Values below 20.70456164999999 for Capomulin could be outliers.\n",
      "Values above 51.83201549 for Capomulin could be outliers.\n",
      "There are 0 potential outlier(s) for Capomulin, based on the IQR and quantitative determination.\n"
     ]
    },
    {
     "data": {
      "text/html": [
       "<div>\n",
       "<style scoped>\n",
       "    .dataframe tbody tr th:only-of-type {\n",
       "        vertical-align: middle;\n",
       "    }\n",
       "\n",
       "    .dataframe tbody tr th {\n",
       "        vertical-align: top;\n",
       "    }\n",
       "\n",
       "    .dataframe thead th {\n",
       "        text-align: right;\n",
       "    }\n",
       "</style>\n",
       "<table border=\"1\" class=\"dataframe\">\n",
       "  <thead>\n",
       "    <tr style=\"text-align: right;\">\n",
       "      <th></th>\n",
       "      <th>Drug Regimen</th>\n",
       "      <th>finalTumorVolume</th>\n",
       "    </tr>\n",
       "  </thead>\n",
       "  <tbody>\n",
       "  </tbody>\n",
       "</table>\n",
       "</div>"
      ],
      "text/plain": [
       "Empty DataFrame\n",
       "Columns: [Drug Regimen, finalTumorVolume]\n",
       "Index: []"
      ]
     },
     "execution_count": 17,
     "metadata": {},
     "output_type": "execute_result"
    }
   ],
   "source": [
    "# Calculate the IQR and quantitatively determine if there are any potential outliers...\n",
    "# ...for EACH of the four regimens: Capomulin\n",
    "\n",
    "# Determine if there are any potential outliers population\n",
    "Capomulin_finalTumorVolumes_quartiles = Capomulin_finalTumorVolumes['finalTumorVolume'].quantile([0.25,0.5,0.75])\n",
    "Capomulin_finalTumorVolumes_lowerQ = Capomulin_finalTumorVolumes_quartiles[0.25]\n",
    "Capomulin_finalTumorVolumes_upperQ = Capomulin_finalTumorVolumes_quartiles[0.75]\n",
    "Capomulin_finalTumorVolumes_iqr = Capomulin_finalTumorVolumes_upperQ - Capomulin_finalTumorVolumes_lowerQ\n",
    "\n",
    "print(f\"The lower quartile for Capomulin is: {Capomulin_finalTumorVolumes_lowerQ}\")\n",
    "print(f\"The upper quartile for Capomulin is: {Capomulin_finalTumorVolumes_upperQ}\")\n",
    "print(f\"The interquartile range for Capomulin is: {Capomulin_finalTumorVolumes_iqr}\")\n",
    "print(f\"The the median for Capomulin is: {Capomulin_finalTumorVolumes_quartiles[0.5]} \")\n",
    "\n",
    "Capomulin_finalTumorVolumes_lower_bound = Capomulin_finalTumorVolumes_lowerQ - (1.5 * Capomulin_finalTumorVolumes_iqr)\n",
    "Capomulin_finalTumorVolumes_upper_bound = Capomulin_finalTumorVolumes_upperQ + (1.5 * Capomulin_finalTumorVolumes_iqr)\n",
    "print(f\"Values below {Capomulin_finalTumorVolumes_lower_bound} for Capomulin could be outliers.\")\n",
    "print(f\"Values above {Capomulin_finalTumorVolumes_upper_bound} for Capomulin could be outliers.\")\n",
    "\n",
    "Capomulin_outlier_finalTumorVolume = Capomulin_finalTumorVolumes.loc[(Capomulin_finalTumorVolumes['finalTumorVolume'] < Capomulin_finalTumorVolumes_lower_bound) |\n",
    "                                                 (Capomulin_finalTumorVolumes['finalTumorVolume'] > Capomulin_finalTumorVolumes_upper_bound)]\n",
    "print(f\"There are {len(Capomulin_outlier_finalTumorVolume)} potential outlier(s) for Capomulin, based on the IQR and quantitative determination.\")\n",
    "\n",
    "Capomulin_outlier_finalTumorVolume\n"
   ]
  },
  {
   "cell_type": "code",
   "execution_count": 18,
   "metadata": {},
   "outputs": [
    {
     "name": "stdout",
     "output_type": "stream",
     "text": [
      "The lower quartile for Ceftamin is: 48.72207785\n",
      "The upper quartile for Ceftamin is: 64.29983003\n",
      "The interquartile range for Ceftamin is: 15.577752179999997\n",
      "The the median for Ceftamin is: 59.85195552 \n",
      "Values below 25.355449580000002 for Ceftamin could be outliers.\n",
      "Values above 87.66645829999999 for Ceftamin could be outliers.\n",
      "There are 0 potential outlier(s) for Ceftamin, based on the IQR and quantitative determination.\n"
     ]
    },
    {
     "data": {
      "text/html": [
       "<div>\n",
       "<style scoped>\n",
       "    .dataframe tbody tr th:only-of-type {\n",
       "        vertical-align: middle;\n",
       "    }\n",
       "\n",
       "    .dataframe tbody tr th {\n",
       "        vertical-align: top;\n",
       "    }\n",
       "\n",
       "    .dataframe thead th {\n",
       "        text-align: right;\n",
       "    }\n",
       "</style>\n",
       "<table border=\"1\" class=\"dataframe\">\n",
       "  <thead>\n",
       "    <tr style=\"text-align: right;\">\n",
       "      <th></th>\n",
       "      <th>Drug Regimen</th>\n",
       "      <th>finalTumorVolume</th>\n",
       "    </tr>\n",
       "  </thead>\n",
       "  <tbody>\n",
       "  </tbody>\n",
       "</table>\n",
       "</div>"
      ],
      "text/plain": [
       "Empty DataFrame\n",
       "Columns: [Drug Regimen, finalTumorVolume]\n",
       "Index: []"
      ]
     },
     "execution_count": 18,
     "metadata": {},
     "output_type": "execute_result"
    }
   ],
   "source": [
    "# Calculate the IQR and quantitatively determine if there are any potential outliers...\n",
    "# ...for EACH of the four regimens: Ceftamin\n",
    "\n",
    "# Determine if there are any potential outliers population\n",
    "Ceftamin_finalTumorVolumes_quartiles = Ceftamin_finalTumorVolumes['finalTumorVolume'].quantile([0.25,0.5,0.75])\n",
    "Ceftamin_finalTumorVolumes_lowerQ = Ceftamin_finalTumorVolumes_quartiles[0.25]\n",
    "Ceftamin_finalTumorVolumes_upperQ = Ceftamin_finalTumorVolumes_quartiles[0.75]\n",
    "Ceftamin_finalTumorVolumes_iqr = Ceftamin_finalTumorVolumes_upperQ - Ceftamin_finalTumorVolumes_lowerQ\n",
    "\n",
    "print(f\"The lower quartile for Ceftamin is: {Ceftamin_finalTumorVolumes_lowerQ}\")\n",
    "print(f\"The upper quartile for Ceftamin is: {Ceftamin_finalTumorVolumes_upperQ}\")\n",
    "print(f\"The interquartile range for Ceftamin is: {Ceftamin_finalTumorVolumes_iqr}\")\n",
    "print(f\"The the median for Ceftamin is: {Ceftamin_finalTumorVolumes_quartiles[0.5]} \")\n",
    "\n",
    "Ceftamin_finalTumorVolumes_lower_bound = Ceftamin_finalTumorVolumes_lowerQ - (1.5 * Ceftamin_finalTumorVolumes_iqr)\n",
    "Ceftamin_finalTumorVolumes_upper_bound = Ceftamin_finalTumorVolumes_upperQ + (1.5 * Ceftamin_finalTumorVolumes_iqr)\n",
    "print(f\"Values below {Ceftamin_finalTumorVolumes_lower_bound} for Ceftamin could be outliers.\")\n",
    "print(f\"Values above {Ceftamin_finalTumorVolumes_upper_bound} for Ceftamin could be outliers.\")\n",
    "\n",
    "Ceftamin_outlier_finalTumorVolume = Ceftamin_finalTumorVolumes.loc[(Ceftamin_finalTumorVolumes['finalTumorVolume'] < Ceftamin_finalTumorVolumes_lower_bound) |\n",
    "                                                 (Ceftamin_finalTumorVolumes['finalTumorVolume'] > Ceftamin_finalTumorVolumes_upper_bound)]\n",
    "print(f\"There are {len(Ceftamin_outlier_finalTumorVolume)} potential outlier(s) for Ceftamin, based on the IQR and quantitative determination.\")\n",
    "\n",
    "Ceftamin_outlier_finalTumorVolume\n"
   ]
  },
  {
   "cell_type": "code",
   "execution_count": 19,
   "metadata": {},
   "outputs": [
    {
     "name": "stdout",
     "output_type": "stream",
     "text": [
      "The lower quartile for Infubinol is: 54.04860769\n",
      "The upper quartile for Infubinol is: 65.52574285\n",
      "The interquartile range for Infubinol is: 11.477135160000003\n",
      "The the median for Infubinol is: 60.16518046 \n",
      "Values below 36.83290494999999 for Infubinol could be outliers.\n",
      "Values above 82.74144559000001 for Infubinol could be outliers.\n",
      "There are 1 potential outlier(s) for Infubinol, based on the IQR and quantitative determination.\n"
     ]
    },
    {
     "data": {
      "text/html": [
       "<div>\n",
       "<style scoped>\n",
       "    .dataframe tbody tr th:only-of-type {\n",
       "        vertical-align: middle;\n",
       "    }\n",
       "\n",
       "    .dataframe tbody tr th {\n",
       "        vertical-align: top;\n",
       "    }\n",
       "\n",
       "    .dataframe thead th {\n",
       "        text-align: right;\n",
       "    }\n",
       "</style>\n",
       "<table border=\"1\" class=\"dataframe\">\n",
       "  <thead>\n",
       "    <tr style=\"text-align: right;\">\n",
       "      <th></th>\n",
       "      <th>Drug Regimen</th>\n",
       "      <th>finalTumorVolume</th>\n",
       "    </tr>\n",
       "  </thead>\n",
       "  <tbody>\n",
       "    <tr>\n",
       "      <td>58</td>\n",
       "      <td>Infubinol</td>\n",
       "      <td>36.321346</td>\n",
       "    </tr>\n",
       "  </tbody>\n",
       "</table>\n",
       "</div>"
      ],
      "text/plain": [
       "   Drug Regimen  finalTumorVolume\n",
       "58    Infubinol         36.321346"
      ]
     },
     "execution_count": 19,
     "metadata": {},
     "output_type": "execute_result"
    }
   ],
   "source": [
    "# Calculate the IQR and quantitatively determine if there are any potential outliers...\n",
    "# ...for EACH of the four regimens: Infubinol\n",
    "\n",
    "# Determine if there are any potential outliers population\n",
    "Infubinol_finalTumorVolumes_quartiles = Infubinol_finalTumorVolumes['finalTumorVolume'].quantile([0.25,0.5,0.75])\n",
    "Infubinol_finalTumorVolumes_lowerQ = Infubinol_finalTumorVolumes_quartiles[0.25]\n",
    "Infubinol_finalTumorVolumes_upperQ = Infubinol_finalTumorVolumes_quartiles[0.75]\n",
    "Infubinol_finalTumorVolumes_iqr = Infubinol_finalTumorVolumes_upperQ - Infubinol_finalTumorVolumes_lowerQ\n",
    "\n",
    "print(f\"The lower quartile for Infubinol is: {Infubinol_finalTumorVolumes_lowerQ}\")\n",
    "print(f\"The upper quartile for Infubinol is: {Infubinol_finalTumorVolumes_upperQ}\")\n",
    "print(f\"The interquartile range for Infubinol is: {Infubinol_finalTumorVolumes_iqr}\")\n",
    "print(f\"The the median for Infubinol is: {Infubinol_finalTumorVolumes_quartiles[0.5]} \")\n",
    "\n",
    "Infubinol_finalTumorVolumes_lower_bound = Infubinol_finalTumorVolumes_lowerQ - (1.5 * Infubinol_finalTumorVolumes_iqr)\n",
    "Infubinol_finalTumorVolumes_upper_bound = Infubinol_finalTumorVolumes_upperQ + (1.5 * Infubinol_finalTumorVolumes_iqr)\n",
    "print(f\"Values below {Infubinol_finalTumorVolumes_lower_bound} for Infubinol could be outliers.\")\n",
    "print(f\"Values above {Infubinol_finalTumorVolumes_upper_bound} for Infubinol could be outliers.\")\n",
    "\n",
    "Infubinol_outlier_finalTumorVolume = Infubinol_finalTumorVolumes.loc[(Infubinol_finalTumorVolumes['finalTumorVolume'] < Infubinol_finalTumorVolumes_lower_bound) |\n",
    "                                                 (Infubinol_finalTumorVolumes['finalTumorVolume'] > Infubinol_finalTumorVolumes_upper_bound)]\n",
    "print(f\"There are {len(Infubinol_outlier_finalTumorVolume)} potential outlier(s) for Infubinol, based on the IQR and quantitative determination.\")\n",
    "\n",
    "Infubinol_outlier_finalTumorVolume\n"
   ]
  },
  {
   "cell_type": "code",
   "execution_count": 20,
   "metadata": {
    "scrolled": true
   },
   "outputs": [
    {
     "name": "stdout",
     "output_type": "stream",
     "text": [
      "The lower quartile for Ramicane is: 31.56046955\n",
      "The upper quartile for Ramicane is: 40.65900627\n",
      "The interquartile range for Ramicane is: 9.098536719999998\n",
      "The the median for Ramicane is: 36.56165229 \n",
      "Values below 17.912664470000003 for Ramicane could be outliers.\n",
      "Values above 54.30681135 for Ramicane could be outliers.\n",
      "There are 0 potential outlier(s) for Ramicane, based on the IQR and quantitative determination.\n"
     ]
    },
    {
     "data": {
      "text/html": [
       "<div>\n",
       "<style scoped>\n",
       "    .dataframe tbody tr th:only-of-type {\n",
       "        vertical-align: middle;\n",
       "    }\n",
       "\n",
       "    .dataframe tbody tr th {\n",
       "        vertical-align: top;\n",
       "    }\n",
       "\n",
       "    .dataframe thead th {\n",
       "        text-align: right;\n",
       "    }\n",
       "</style>\n",
       "<table border=\"1\" class=\"dataframe\">\n",
       "  <thead>\n",
       "    <tr style=\"text-align: right;\">\n",
       "      <th></th>\n",
       "      <th>Drug Regimen</th>\n",
       "      <th>finalTumorVolume</th>\n",
       "    </tr>\n",
       "  </thead>\n",
       "  <tbody>\n",
       "  </tbody>\n",
       "</table>\n",
       "</div>"
      ],
      "text/plain": [
       "Empty DataFrame\n",
       "Columns: [Drug Regimen, finalTumorVolume]\n",
       "Index: []"
      ]
     },
     "execution_count": 20,
     "metadata": {},
     "output_type": "execute_result"
    }
   ],
   "source": [
    "# Calculate the IQR and quantitatively determine if there are any potential outliers...\n",
    "# ...for EACH of the four regimens: Ramicane\n",
    "\n",
    "# Determine if there are any potential outliers population\n",
    "Ramicane_finalTumorVolumes_quartiles = Ramicane_finalTumorVolumes['finalTumorVolume'].quantile([0.25,0.5,0.75])\n",
    "Ramicane_finalTumorVolumes_lowerQ = Ramicane_finalTumorVolumes_quartiles[0.25]\n",
    "Ramicane_finalTumorVolumes_upperQ = Ramicane_finalTumorVolumes_quartiles[0.75]\n",
    "Ramicane_finalTumorVolumes_iqr = Ramicane_finalTumorVolumes_upperQ - Ramicane_finalTumorVolumes_lowerQ\n",
    "\n",
    "print(f\"The lower quartile for Ramicane is: {Ramicane_finalTumorVolumes_lowerQ}\")\n",
    "print(f\"The upper quartile for Ramicane is: {Ramicane_finalTumorVolumes_upperQ}\")\n",
    "print(f\"The interquartile range for Ramicane is: {Ramicane_finalTumorVolumes_iqr}\")\n",
    "print(f\"The the median for Ramicane is: {Ramicane_finalTumorVolumes_quartiles[0.5]} \")\n",
    "\n",
    "Ramicane_finalTumorVolumes_lower_bound = Ramicane_finalTumorVolumes_lowerQ - (1.5 * Ramicane_finalTumorVolumes_iqr)\n",
    "Ramicane_finalTumorVolumes_upper_bound = Ramicane_finalTumorVolumes_upperQ + (1.5 * Ramicane_finalTumorVolumes_iqr)\n",
    "print(f\"Values below {Ramicane_finalTumorVolumes_lower_bound} for Ramicane could be outliers.\")\n",
    "print(f\"Values above {Ramicane_finalTumorVolumes_upper_bound} for Ramicane could be outliers.\")\n",
    "\n",
    "Ramicane_outlier_finalTumorVolume = Ramicane_finalTumorVolumes.loc[(Ramicane_finalTumorVolumes['finalTumorVolume'] < Ramicane_finalTumorVolumes_lower_bound) |\n",
    "                                                 (Ramicane_finalTumorVolumes['finalTumorVolume'] > Ramicane_finalTumorVolumes_upper_bound)]\n",
    "print(f\"There are {len(Ramicane_outlier_finalTumorVolume)} potential outlier(s) for Ramicane, based on the IQR and quantitative determination.\")\n",
    "\n",
    "Ramicane_outlier_finalTumorVolume\n"
   ]
  },
  {
   "cell_type": "markdown",
   "metadata": {},
   "source": [
    "Using Matplotlib, generate a box and whisker plot of the final tumor volume for all four treatment regimens and highlight any potential outliers in the plot by changing their color and style.\n",
    "\n",
    "Generate a box plot of the final tumor volume of each mouse across four regimens of interest"
   ]
  },
  {
   "cell_type": "code",
   "execution_count": 21,
   "metadata": {
    "scrolled": true
   },
   "outputs": [
    {
     "data": {
      "text/plain": [
       "<matplotlib.axes._subplots.AxesSubplot at 0x1a236f0690>"
      ]
     },
     "execution_count": 21,
     "metadata": {},
     "output_type": "execute_result"
    },
    {
     "data": {
      "image/png": "[encoded data removed]",
      "text/plain": [
       "<Figure size 504x360 with 1 Axes>"
      ]
     },
     "metadata": {
      "needs_background": "light"
     },
     "output_type": "display_data"
    }
   ],
   "source": [
    "# Basic BoxPlot using pandas .boxplot - the one below uses .plt and also meets the ask of the challenge/assignment\n",
    "\n",
    "# set flierprops (outlier marker properties)\n",
    "flierprops = dict(marker=\"^\",\n",
    "                  markerfacecolor=\"blue\",\n",
    "                  markersize=12,\n",
    "                  markeredgecolor=\"black\")\n",
    "\n",
    "# create box plot and plot the data\n",
    "finalTumorVolumes.boxplot(column=[\"finalTumorVolume\"],\n",
    "                          by=\"Drug Regimen\",\n",
    "                          figsize=(7,5),\n",
    "                          fontsize=12,\n",
    "                          flierprops=flierprops,\n",
    "                         )"
   ]
  },
  {
   "cell_type": "code",
   "execution_count": 22,
   "metadata": {},
   "outputs": [
    {
     "data": {
      "image/png": "[encoded data removed]",
      "text/plain": [
       "<Figure size 720x432 with 1 Axes>"
      ]
     },
     "metadata": {
      "needs_background": "light"
     },
     "output_type": "display_data"
    }
   ],
   "source": [
    "# Using Matplotlib, generate a box and whisker plot of the final tumor volume for all four treatment regimens\n",
    "# and highlight any potential outliers in the plot by changing their color and style\n",
    "\n",
    "# define box plot data\n",
    "box_plot_data = [Capomulin_finalTumorVolumes[\"finalTumorVolume\"],\n",
    "                 Ceftamin_finalTumorVolumes[\"finalTumorVolume\"],\n",
    "                 Infubinol_finalTumorVolumes[\"finalTumorVolume\"],\n",
    "                 Ramicane_finalTumorVolumes[\"finalTumorVolume\"],\n",
    "                ]\n",
    "\n",
    "# set flierprops (outlier marker properties)\n",
    "flierprops = dict(marker=\"^\",\n",
    "                  markerfacecolor=\"blue\",\n",
    "                  markersize=12,\n",
    "                  markeredgecolor=\"black\")\n",
    "\n",
    "# create box plot and plot the data\n",
    "fig, ax = plt.subplots(figsize=(10,6))\n",
    "ax.set_title(\"Final Tumor Volume, by Drug Regimens\")\n",
    "ax.set_xlabel(\"Drug Regimen\")\n",
    "ax.set_ylabel(\"Tumor Volume (mm3)\")\n",
    "ax.boxplot(box_plot_data,\n",
    "          flierprops=flierprops\n",
    "          )\n",
    "plt.xticks([1, 2, 3, 4],\n",
    "           [\"Capomulin\", \"Ceftamin\", \"Infubinol\", \"Ramicane\"])\n",
    "\n",
    "plt.show()"
   ]
  },
  {
   "cell_type": "markdown",
   "metadata": {},
   "source": [
    "## Line and scatter plots"
   ]
  },
  {
   "cell_type": "markdown",
   "metadata": {},
   "source": [
    "Generate a line plot of time point versus tumor volume for a single mouse treated with Capomulin"
   ]
  },
  {
   "cell_type": "code",
   "execution_count": 23,
   "metadata": {},
   "outputs": [
    {
     "data": {
      "image/png": "[encoded data removed]",
      "text/plain": [
       "<Figure size 576x432 with 1 Axes>"
      ]
     },
     "metadata": {
      "needs_background": "light"
     },
     "output_type": "display_data"
    }
   ],
   "source": [
    "# Generate a line plot of time point versus tumor volume for a single mouse treated with Capomulin.\n",
    "\n",
    "# set drug choice\n",
    "drug_choice = \"Capomulin\"\n",
    "\n",
    "# filter mouse_metadata to mice treated only the selected drug regimen choice\n",
    "drug_choice_mice = mouse_metadata.loc[(mouse_metadata[\"Drug Regimen\"] == drug_choice)]\n",
    "\n",
    "# select a random mouse on the selected drug regimen choice\n",
    "drug_choice_random_mouse_id = random.choice(drug_choice_mice[\"Mouse ID\"].tolist())\n",
    "\n",
    "# create dataset, including only data for a random mouse treated with the selected drug regimen (Capomulin)\n",
    "drug_choice_df = df.loc[(df[\"Drug Regimen\"] == drug_choice)]\n",
    "drug_choice_random_mouse_df = drug_choice_df.loc[(drug_choice_df[\"Mouse ID\"] == drug_choice_random_mouse_id)]\n",
    "\n",
    "# plot the line graph and set title, labels and other chart properties\n",
    "plt.figure(figsize=(8,6))\n",
    "plt.plot(drug_choice_random_mouse_df[\"Timepoint\"],\n",
    "         drug_choice_random_mouse_df[\"Tumor Volume (mm3)\"],\n",
    "         color=\"darkblue\"\n",
    "        )\n",
    "\n",
    "plt.title(f\"Mouse ID: {drug_choice_random_mouse_id} | tumors on {drug_choice} treatment\")\n",
    "plt.xlabel(\"Timepoint\")\n",
    "plt.ylabel(\"Tumor Volume (mm3)\")\n",
    "plt.show()\n"
   ]
  },
  {
   "cell_type": "markdown",
   "metadata": {},
   "source": [
    "Generate a scatter plot of mouse weight versus average tumor volume for the Capomulin treatment regimen."
   ]
  },
  {
   "cell_type": "code",
   "execution_count": 24,
   "metadata": {},
   "outputs": [
    {
     "data": {
      "image/png": "[encoded data removed]",
      "text/plain": [
       "<Figure size 576x432 with 1 Axes>"
      ]
     },
     "metadata": {
      "needs_background": "light"
     },
     "output_type": "display_data"
    }
   ],
   "source": [
    "# Generate a scatter plot of mouse weight versus average tumor volume for the Capomulin treatment regimen.\n",
    "\n",
    "# using drug choice set above, create dataset of mice, their weight and average tumor volumes for mice\n",
    "# treated with the selected drug regimen (Capomulin)\n",
    "drug_choice_miceWeights_tumorVolumes = drug_choice_df.groupby([\"Mouse ID\",\"Weight (g)\"]).agg(\n",
    "    avgTumorVolume = pd.NamedAgg(column=\"Tumor Volume (mm3)\", aggfunc = \"mean\")\n",
    ")\n",
    "\n",
    "# reset index, to use \"Weight (g)\" in the scatter plot data\n",
    "drug_choice_miceWeights_tumorVolumes = drug_choice_miceWeights_tumorVolumes.reset_index()\n",
    "\n",
    "# create two lists of the data to be plotted on the scatter plot\n",
    "# x_values = drug_choice_miceWeights_tumorVolumes[\"Weight (g)\"].tolist()\n",
    "x_values = drug_choice_miceWeights_tumorVolumes.iloc[:,1]\n",
    "# y_values = drug_choice_miceWeights_tumorVolumes[\"avgTumorVolume\"].tolist()\n",
    "y_values = drug_choice_miceWeights_tumorVolumes.iloc[:,2]\n",
    "\n",
    "# plot the scatter plot and set title and labels chart properties\n",
    "plt.figure(figsize=(8,6))\n",
    "plt.scatter(x_values,\n",
    "            y_values,\n",
    "            color=\"darkgreen\"\n",
    "           )\n",
    "plt.title(\"test\")\n",
    "plt.title(f\"{drug_choice}'s mouse weight vs. average tumor volume\")\n",
    "plt.xlabel(\"Weight (g)\")\n",
    "plt.ylabel(\"Tumor Volume (mm3)\")\n",
    "plt.show()\n"
   ]
  },
  {
   "cell_type": "markdown",
   "metadata": {},
   "source": [
    "Calculate the correlation coefficient and linear regression model between mouse weight and average tumor volume for the Capomulin treatment regimen.\n",
    "\n",
    "Plot the linear regression model on top of the previous scatter plot."
   ]
  },
  {
   "cell_type": "code",
   "execution_count": 25,
   "metadata": {},
   "outputs": [
    {
     "name": "stdout",
     "output_type": "stream",
     "text": [
      "The correlation coefficient between mouse weight and average tumor volume for the \n",
      "Capomulin treatment regimen is 0.84.\n"
     ]
    },
    {
     "data": {
      "image/png": "[encoded data removed]",
      "text/plain": [
       "<Figure size 576x432 with 1 Axes>"
      ]
     },
     "metadata": {
      "needs_background": "light"
     },
     "output_type": "display_data"
    }
   ],
   "source": [
    "# Calculate the correlation coefficient and linear regression model between mouse weight and average tumor\n",
    "# volume for the Capomulin treatment regimen.\n",
    "\n",
    "# calculating the correlation coefficient using st.pearson()\n",
    "correlation = st.pearsonr(x_values, y_values)\n",
    "print(f\"The correlation coefficient between mouse weight and average tumor volume for the \\n{drug_choice} treatment regimen is {round(correlation[0],2)}.\")\n",
    "\n",
    "# # Perform a linear regression on \n",
    "# vc_slope, vc_int, vc_r, vc_p, vc_std_err = st.linregress(x_values, y_values)\n",
    "(slope, intercept, rvalue, pvalue, stderr) = st.linregress(x_values, y_values)\n",
    "regress_values = x_values * slope + intercept\n",
    "\n",
    "# Plot the linear regression model on top of the previous scatter plot.\n",
    "line_eq = \"y = \" + str(round(slope,2)) + \"x + \" + str(round(intercept,2))\n",
    "\n",
    "# (previous scatter plot, from cell above: plot the scatter plot and set title and labels chart properties)\n",
    "plt.figure(figsize=(8,6))\n",
    "plt.scatter(x_values,\n",
    "            y_values,\n",
    "            color=\"darkgreen\"\n",
    "           )\n",
    "plt.title(\"test\")\n",
    "plt.title(f\"{drug_choice}'s mouse weight vs. average tumor volume\")\n",
    "plt.xlabel(\"Weight (g)\")\n",
    "plt.ylabel(\"Tumor Volume (mm3)\")\n",
    "\n",
    "# Plot the linear regression model on top of the previous scatter plot.\n",
    "plt.plot(x_values, regress_values, \"gray\", alpha=0.5)\n",
    "\n",
    "plt.show()\n"
   ]
  },
  {
   "cell_type": "code",
   "execution_count": null,
   "metadata": {},
   "outputs": [],
   "source": []
  }
 ],
 "metadata": {
  "kernelspec": {
   "display_name": "Python 3",
   "language": "python",
   "name": "python3"
  },
  "language_info": {
   "codemirror_mode": {
    "name": "ipython",
    "version": 3
   },
   "file_extension": ".py",
   "mimetype": "text/x-python",
   "name": "python",
   "nbconvert_exporter": "python",
   "pygments_lexer": "ipython3",
   "version": "3.7.4"
  }
 },
 "nbformat": 4,
 "nbformat_minor": 2
}
